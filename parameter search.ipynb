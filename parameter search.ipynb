{
 "cells": [
  {
   "cell_type": "code",
   "execution_count": 29,
   "metadata": {
    "application/vnd.databricks.v1+cell": {
     "cellMetadata": {
      "byteLimit": 2048000,
      "rowLimit": 10000
     },
     "inputWidgets": {},
     "nuid": "8396df44-d408-4bbf-a55d-e14377d45f83",
     "showTitle": false,
     "title": ""
    }
   },
   "outputs": [],
   "source": [
    "import pandas as pd\n",
    "\n",
    "from src.dataset import DepressionDataset\n",
    "from src.train import train\n",
    "from src.model import GCN"
   ]
  },
  {
   "cell_type": "code",
   "execution_count": 30,
   "metadata": {
    "application/vnd.databricks.v1+cell": {
     "cellMetadata": {
      "byteLimit": 2048000,
      "rowLimit": 10000
     },
     "inputWidgets": {},
     "nuid": "5e608fac-0194-4cfa-9b8e-5a3226ab1a1f",
     "showTitle": false,
     "title": ""
    }
   },
   "outputs": [],
   "source": [
    "raw_train = pd.read_table(\"./data/bronze/train.tsv\", sep=\"\\t\").groupby(\"label\").head(2000).reset_index(drop=True)\n",
    "raw_dev = pd.read_table(\"./data/bronze/dev.tsv\", sep=\"\\t\")"
   ]
  },
  {
   "cell_type": "code",
   "execution_count": 31,
   "metadata": {
    "application/vnd.databricks.v1+cell": {
     "cellMetadata": {
      "byteLimit": 2048000,
      "rowLimit": 10000
     },
     "inputWidgets": {},
     "nuid": "8cb25571-c180-484b-b00b-88035f4905f6",
     "showTitle": false,
     "title": ""
    }
   },
   "outputs": [],
   "source": [
    "dataset_path = './data/gold'\n",
    "dataset_root = dataset_path + \"/w2v_window_11\"\n",
    "\n",
    "train_dataset = DepressionDataset(\n",
    "    root=dataset_root, filename=\"\",\n",
    "    prefix=\"train\",\n",
    "    raw_data=raw_train\n",
    ")\n",
    "\n",
    "dev_dataset = DepressionDataset(\n",
    "    root=dataset_root, filename=\"\",\n",
    "    prefix=\"dev\",\n",
    "    raw_data=raw_dev\n",
    ")"
   ]
  },
  {
   "cell_type": "code",
   "execution_count": 32,
   "metadata": {
    "application/vnd.databricks.v1+cell": {
     "cellMetadata": {
      "byteLimit": 2048000,
      "rowLimit": 10000
     },
     "inputWidgets": {},
     "nuid": "56cd893b-7e93-4ca8-8471-3d7f773b1442",
     "showTitle": false,
     "title": ""
    }
   },
   "outputs": [],
   "source": [
    "HYPERPARAMETERS = {\n",
    "    \"n_epochs\": [500],\n",
    "    \"batch_size\": [32, 128, 64],\n",
    "    \"learning_rate\": [0.1, 0.05, 0.01, 0.001],\n",
    "    \"weight_decay\": [0.0001, 0.00001, 0.001],\n",
    "    \"sgd_momentum\": [0.9, 0.8, 0.5],\n",
    "    \"scheduler_gamma\": [0.995, 0.9, 0.8, 0.5, 1],\n",
    "    \"model_embedding_size\": [8, 16, 32, 64, 128],\n",
    "    \"model_dense_neurons\": [16, 128, 64, 256, 32],\n",
    "    \"model_layers\": [3],\n",
    "    \"model_num_classes\": [3],\n",
    "}"
   ]
  },
  {
   "cell_type": "code",
   "execution_count": 34,
   "metadata": {
    "application/vnd.databricks.v1+cell": {
     "cellMetadata": {
      "byteLimit": 2048000,
      "rowLimit": 10000
     },
     "inputWidgets": {},
     "nuid": "4c15e0af-4a93-4df4-be21-cf3b6fcc25f5",
     "showTitle": false,
     "title": ""
    }
   },
   "outputs": [
    {
     "name": "stderr",
     "output_type": "stream",
     "text": [
      "100%|██████████| 39/39 [00:07<00:00,  5.56it/s]\n",
      "100%|██████████| 36/36 [00:06<00:00,  5.96it/s]\n"
     ]
    }
   ],
   "source": [
    "from mango import Tuner\n",
    "\n",
    "config = dict()\n",
    "config[\"optimizer\"] = \"Bayesian\"\n",
    "config[\"num_iteration\"] = 100\n",
    "\n",
    "tuner = Tuner(HYPERPARAMETERS, \n",
    "              objective=lambda params: train(params[0], train_dataset, dev_dataset, GCN),\n",
    "              conf_dict=config) \n",
    "results = tuner.minimize()"
   ]
  },
  {
   "cell_type": "code",
   "execution_count": null,
   "metadata": {},
   "outputs": [],
   "source": []
  }
 ],
 "metadata": {
  "application/vnd.databricks.v1+notebook": {
   "dashboards": [],
   "language": "python",
   "notebookMetadata": {
    "pythonIndentUnit": 4
   },
   "notebookName": "parameter search",
   "widgets": {}
  },
  "kernelspec": {
   "display_name": "Python 3",
   "language": "python",
   "name": "python3"
  },
  "language_info": {
   "codemirror_mode": {
    "name": "ipython",
    "version": 3
   },
   "file_extension": ".py",
   "mimetype": "text/x-python",
   "name": "python",
   "nbconvert_exporter": "python",
   "pygments_lexer": "ipython3",
   "version": "3.11.5"
  }
 },
 "nbformat": 4,
 "nbformat_minor": 0
}
