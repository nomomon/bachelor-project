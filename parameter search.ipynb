{
 "cells": [
  {
   "cell_type": "code",
   "execution_count": 1,
   "metadata": {
    "application/vnd.databricks.v1+cell": {
     "cellMetadata": {
      "byteLimit": 2048000,
      "rowLimit": 10000
     },
     "inputWidgets": {},
     "nuid": "8396df44-d408-4bbf-a55d-e14377d45f83",
     "showTitle": false,
     "title": ""
    }
   },
   "outputs": [
    {
     "name": "stderr",
     "output_type": "stream",
     "text": [
      "/opt/homebrew/lib/python3.11/site-packages/pydantic/_internal/_fields.py:128: UserWarning: Field \"model_server_url\" has conflict with protected namespace \"model_\".\n",
      "\n",
      "You may be able to resolve this warning by setting `model_config['protected_namespaces'] = ()`.\n",
      "  warnings.warn(\n",
      "/opt/homebrew/lib/python3.11/site-packages/pydantic/_internal/_config.py:317: UserWarning: Valid config keys have changed in V2:\n",
      "* 'schema_extra' has been renamed to 'json_schema_extra'\n",
      "  warnings.warn(message, UserWarning)\n"
     ]
    }
   ],
   "source": [
    "import pandas as pd\n",
    "\n",
    "from src.dataset import DepressionDataset\n",
    "from src.train import train\n",
    "from src.model import GCN"
   ]
  },
  {
   "cell_type": "code",
   "execution_count": 2,
   "metadata": {
    "application/vnd.databricks.v1+cell": {
     "cellMetadata": {
      "byteLimit": 2048000,
      "rowLimit": 10000
     },
     "inputWidgets": {},
     "nuid": "5e608fac-0194-4cfa-9b8e-5a3226ab1a1f",
     "showTitle": false,
     "title": ""
    }
   },
   "outputs": [],
   "source": [
    "raw_train = pd.read_table(\"./data/bronze/train.tsv\", sep=\"\\t\").groupby(\"label\").head(2000).reset_index(drop=True)\n",
    "raw_dev = pd.read_table(\"./data/bronze/dev.tsv\", sep=\"\\t\")"
   ]
  },
  {
   "cell_type": "code",
   "execution_count": 3,
   "metadata": {
    "application/vnd.databricks.v1+cell": {
     "cellMetadata": {
      "byteLimit": 2048000,
      "rowLimit": 10000
     },
     "inputWidgets": {},
     "nuid": "8cb25571-c180-484b-b00b-88035f4905f6",
     "showTitle": false,
     "title": ""
    }
   },
   "outputs": [],
   "source": [
    "dataset_path = './data/gold'\n",
    "dataset_root = dataset_path + \"/w2v_window_11\"\n",
    "\n",
    "train_dataset = DepressionDataset(\n",
    "    root=dataset_root, filename=\"\",\n",
    "    prefix=\"train\",\n",
    "    raw_data=raw_train\n",
    ")\n",
    "\n",
    "dev_dataset = DepressionDataset(\n",
    "    root=dataset_root, filename=\"\",\n",
    "    prefix=\"dev\",\n",
    "    raw_data=raw_dev\n",
    ")"
   ]
  },
  {
   "cell_type": "code",
   "execution_count": 4,
   "metadata": {
    "application/vnd.databricks.v1+cell": {
     "cellMetadata": {
      "byteLimit": 2048000,
      "rowLimit": 10000
     },
     "inputWidgets": {},
     "nuid": "56cd893b-7e93-4ca8-8471-3d7f773b1442",
     "showTitle": false,
     "title": ""
    }
   },
   "outputs": [],
   "source": [
    "HYPERPARAMETERS = {\n",
    "    \"n_epochs\": [300],\n",
    "    \"batch_size\": [32, 128, 64],\n",
    "    \"learning_rate\": [0.1, 0.05, 0.01, 0.001],\n",
    "    \"weight_decay\": [0.0001, 0.00001, 0.001],\n",
    "    \"sgd_momentum\": [0.9, 0.8, 0.5],\n",
    "    \"scheduler_gamma\": [0.995, 0.9, 0.8, 0.5, 1],\n",
    "    \"model_embedding_size\": [8, 16, 32, 64, 128],\n",
    "    \"model_dense_neurons\": [16, 128, 64, 256, 32],\n",
    "    \"model_dropout\": [0.1, 0.2, 0.3, 0.4, 0.5],\n",
    "    \"model_layers\": [3],\n",
    "    \"model_num_classes\": [3],\n",
    "}"
   ]
  },
  {
   "cell_type": "code",
   "execution_count": 6,
   "metadata": {},
   "outputs": [
    {
     "name": "stderr",
     "output_type": "stream",
     "text": [
      "2023/11/30 19:44:19 INFO mlflow.tracking.fluent: Experiment with name 'with dropout' does not exist. Creating a new experiment.\n"
     ]
    },
    {
     "data": {
      "text/plain": [
       "<Experiment: artifact_location='file:///Users/nomomon/Desktop/research%20paper/project/mlruns/454631613486971684', creation_time=1701369859522, experiment_id='454631613486971684', last_update_time=1701369859522, lifecycle_stage='active', name='with dropout', tags={}>"
      ]
     },
     "execution_count": 6,
     "metadata": {},
     "output_type": "execute_result"
    }
   ],
   "source": [
    "import mlflow\n",
    "mlflow.set_experiment(\"with dropout\")"
   ]
  },
  {
   "cell_type": "code",
   "execution_count": 7,
   "metadata": {},
   "outputs": [
    {
     "ename": "KeyError",
     "evalue": "\"None of [Index(['params.n_epochs', 'params.batch_size', 'params.learning_rate',\\n       'params.weight_decay', 'params.sgd_momentum', 'params.scheduler_gamma',\\n       'params.model_embedding_size', 'params.model_dense_neurons',\\n       'params.model_dropout', 'params.model_layers',\\n       'params.model_num_classes', 'metrics.valid_loss'],\\n      dtype='object')] are in the [columns]\"",
     "output_type": "error",
     "traceback": [
      "\u001b[0;31m---------------------------------------------------------------------------\u001b[0m",
      "\u001b[0;31mKeyError\u001b[0m                                  Traceback (most recent call last)",
      "\u001b[1;32m/Users/nomomon/Desktop/research paper/project/parameter search.ipynb Cell 6\u001b[0m line \u001b[0;36m1\n\u001b[1;32m     <a href='vscode-notebook-cell:/Users/nomomon/Desktop/research%20paper/project/parameter%20search.ipynb#W4sZmlsZQ%3D%3D?line=9'>10</a>\u001b[0m     keys \u001b[39m=\u001b[39m \u001b[39mlist\u001b[39m(HYPERPARAMETERS\u001b[39m.\u001b[39mkeys())\n\u001b[1;32m     <a href='vscode-notebook-cell:/Users/nomomon/Desktop/research%20paper/project/parameter%20search.ipynb#W4sZmlsZQ%3D%3D?line=10'>11</a>\u001b[0m     keys \u001b[39m=\u001b[39m [\u001b[39m'\u001b[39m\u001b[39mparams.\u001b[39m\u001b[39m'\u001b[39m \u001b[39m+\u001b[39m key \u001b[39mfor\u001b[39;00m key \u001b[39min\u001b[39;00m keys]\n\u001b[0;32m---> <a href='vscode-notebook-cell:/Users/nomomon/Desktop/research%20paper/project/parameter%20search.ipynb#W4sZmlsZQ%3D%3D?line=12'>13</a>\u001b[0m     hyperparameters \u001b[39m=\u001b[39m runs[keys \u001b[39m+\u001b[39;49m [\u001b[39m'\u001b[39;49m\u001b[39mmetrics.valid_loss\u001b[39;49m\u001b[39m'\u001b[39;49m]]\n\u001b[1;32m     <a href='vscode-notebook-cell:/Users/nomomon/Desktop/research%20paper/project/parameter%20search.ipynb#W4sZmlsZQ%3D%3D?line=13'>14</a>\u001b[0m     valid_loss \u001b[39m=\u001b[39m hyperparameters[\u001b[39m'\u001b[39m\u001b[39mmetrics.valid_loss\u001b[39m\u001b[39m'\u001b[39m]\n\u001b[1;32m     <a href='vscode-notebook-cell:/Users/nomomon/Desktop/research%20paper/project/parameter%20search.ipynb#W4sZmlsZQ%3D%3D?line=14'>15</a>\u001b[0m \u001b[39melse\u001b[39;00m:\n",
      "File \u001b[0;32m/opt/homebrew/lib/python3.11/site-packages/pandas/core/frame.py:3902\u001b[0m, in \u001b[0;36mDataFrame.__getitem__\u001b[0;34m(self, key)\u001b[0m\n\u001b[1;32m   3900\u001b[0m     \u001b[39mif\u001b[39;00m is_iterator(key):\n\u001b[1;32m   3901\u001b[0m         key \u001b[39m=\u001b[39m \u001b[39mlist\u001b[39m(key)\n\u001b[0;32m-> 3902\u001b[0m     indexer \u001b[39m=\u001b[39m \u001b[39mself\u001b[39;49m\u001b[39m.\u001b[39;49mcolumns\u001b[39m.\u001b[39;49m_get_indexer_strict(key, \u001b[39m\"\u001b[39;49m\u001b[39mcolumns\u001b[39;49m\u001b[39m\"\u001b[39;49m)[\u001b[39m1\u001b[39m]\n\u001b[1;32m   3904\u001b[0m \u001b[39m# take() does not accept boolean indexers\u001b[39;00m\n\u001b[1;32m   3905\u001b[0m \u001b[39mif\u001b[39;00m \u001b[39mgetattr\u001b[39m(indexer, \u001b[39m\"\u001b[39m\u001b[39mdtype\u001b[39m\u001b[39m\"\u001b[39m, \u001b[39mNone\u001b[39;00m) \u001b[39m==\u001b[39m \u001b[39mbool\u001b[39m:\n",
      "File \u001b[0;32m/opt/homebrew/lib/python3.11/site-packages/pandas/core/indexes/base.py:6114\u001b[0m, in \u001b[0;36mIndex._get_indexer_strict\u001b[0;34m(self, key, axis_name)\u001b[0m\n\u001b[1;32m   6111\u001b[0m \u001b[39melse\u001b[39;00m:\n\u001b[1;32m   6112\u001b[0m     keyarr, indexer, new_indexer \u001b[39m=\u001b[39m \u001b[39mself\u001b[39m\u001b[39m.\u001b[39m_reindex_non_unique(keyarr)\n\u001b[0;32m-> 6114\u001b[0m \u001b[39mself\u001b[39;49m\u001b[39m.\u001b[39;49m_raise_if_missing(keyarr, indexer, axis_name)\n\u001b[1;32m   6116\u001b[0m keyarr \u001b[39m=\u001b[39m \u001b[39mself\u001b[39m\u001b[39m.\u001b[39mtake(indexer)\n\u001b[1;32m   6117\u001b[0m \u001b[39mif\u001b[39;00m \u001b[39misinstance\u001b[39m(key, Index):\n\u001b[1;32m   6118\u001b[0m     \u001b[39m# GH 42790 - Preserve name from an Index\u001b[39;00m\n",
      "File \u001b[0;32m/opt/homebrew/lib/python3.11/site-packages/pandas/core/indexes/base.py:6175\u001b[0m, in \u001b[0;36mIndex._raise_if_missing\u001b[0;34m(self, key, indexer, axis_name)\u001b[0m\n\u001b[1;32m   6173\u001b[0m     \u001b[39mif\u001b[39;00m use_interval_msg:\n\u001b[1;32m   6174\u001b[0m         key \u001b[39m=\u001b[39m \u001b[39mlist\u001b[39m(key)\n\u001b[0;32m-> 6175\u001b[0m     \u001b[39mraise\u001b[39;00m \u001b[39mKeyError\u001b[39;00m(\u001b[39mf\u001b[39m\u001b[39m\"\u001b[39m\u001b[39mNone of [\u001b[39m\u001b[39m{\u001b[39;00mkey\u001b[39m}\u001b[39;00m\u001b[39m] are in the [\u001b[39m\u001b[39m{\u001b[39;00maxis_name\u001b[39m}\u001b[39;00m\u001b[39m]\u001b[39m\u001b[39m\"\u001b[39m)\n\u001b[1;32m   6177\u001b[0m not_found \u001b[39m=\u001b[39m \u001b[39mlist\u001b[39m(ensure_index(key)[missing_mask\u001b[39m.\u001b[39mnonzero()[\u001b[39m0\u001b[39m]]\u001b[39m.\u001b[39munique())\n\u001b[1;32m   6178\u001b[0m \u001b[39mraise\u001b[39;00m \u001b[39mKeyError\u001b[39;00m(\u001b[39mf\u001b[39m\u001b[39m\"\u001b[39m\u001b[39m{\u001b[39;00mnot_found\u001b[39m}\u001b[39;00m\u001b[39m not in index\u001b[39m\u001b[39m\"\u001b[39m)\n",
      "\u001b[0;31mKeyError\u001b[0m: \"None of [Index(['params.n_epochs', 'params.batch_size', 'params.learning_rate',\\n       'params.weight_decay', 'params.sgd_momentum', 'params.scheduler_gamma',\\n       'params.model_embedding_size', 'params.model_dense_neurons',\\n       'params.model_dropout', 'params.model_layers',\\n       'params.model_num_classes', 'metrics.valid_loss'],\\n      dtype='object')] are in the [columns]\""
     ]
    }
   ],
   "source": [
    "# fetch from mlflow the hyperparameters that have already been tested\n",
    "# and their corresponding best_valid_loss\n",
    "\n",
    "mlflow_client = mlflow.tracking.MlflowClient()\n",
    "experiment = mlflow_client.get_experiment_by_name(\"with dropout\")\n",
    "\n",
    "if experiment is not None:\n",
    "    runs = mlflow.search_runs(experiment.experiment_id)\n",
    "    \n",
    "    keys = list(HYPERPARAMETERS.keys())\n",
    "    keys = ['params.' + key for key in keys]\n",
    "\n",
    "    hyperparameters = runs[keys + ['metrics.valid_loss']]\n",
    "    valid_loss = hyperparameters['metrics.valid_loss']\n",
    "else:\n",
    "    print(\"Experiment not found.\")\n",
    "\n",
    "initial_custom = list(zip(hyperparameters.T.to_dict().values(), valid_loss.values))\n",
    "len(initial_custom)"
   ]
  },
  {
   "cell_type": "code",
   "execution_count": 8,
   "metadata": {
    "application/vnd.databricks.v1+cell": {
     "cellMetadata": {
      "byteLimit": 2048000,
      "rowLimit": 10000
     },
     "inputWidgets": {},
     "nuid": "4c15e0af-4a93-4df4-be21-cf3b6fcc25f5",
     "showTitle": false,
     "title": ""
    }
   },
   "outputs": [
    {
     "name": "stderr",
     "output_type": "stream",
     "text": [
      "  0%|          | 0/300 [00:00<?, ?it/s]"
     ]
    }
   ],
   "source": [
    "from mango import Tuner, scheduler\n",
    "\n",
    "config = dict()\n",
    "config[\"optimizer\"] = \"Bayesian\"\n",
    "config[\"num_iteration\"] = 100\n",
    "config[\"initial_custom\"] = initial_custom\n",
    "\n",
    "\n",
    "@scheduler.serial\n",
    "def obj_func(**params):\n",
    "    return train(params, train_dataset, dev_dataset, GCN)\n",
    "\n",
    "\n",
    "tuner = Tuner(HYPERPARAMETERS, \n",
    "              objective=obj_func,\n",
    "              conf_dict=config)\n",
    "results = tuner.minimize()"
   ]
  },
  {
   "cell_type": "code",
   "execution_count": null,
   "metadata": {},
   "outputs": [],
   "source": [
    "!mlflow server"
   ]
  },
  {
   "cell_type": "code",
   "execution_count": null,
   "metadata": {},
   "outputs": [],
   "source": []
  }
 ],
 "metadata": {
  "application/vnd.databricks.v1+notebook": {
   "dashboards": [],
   "language": "python",
   "notebookMetadata": {
    "pythonIndentUnit": 4
   },
   "notebookName": "parameter search",
   "widgets": {}
  },
  "kernelspec": {
   "display_name": "Python 3",
   "language": "python",
   "name": "python3"
  },
  "language_info": {
   "codemirror_mode": {
    "name": "ipython",
    "version": 3
   },
   "file_extension": ".py",
   "mimetype": "text/x-python",
   "name": "python",
   "nbconvert_exporter": "python",
   "pygments_lexer": "ipython3",
   "version": "3.11.5"
  }
 },
 "nbformat": 4,
 "nbformat_minor": 0
}
