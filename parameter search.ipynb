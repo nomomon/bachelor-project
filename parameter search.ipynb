{
 "cells": [
  {
   "cell_type": "code",
   "execution_count": 1,
   "metadata": {
    "application/vnd.databricks.v1+cell": {
     "cellMetadata": {
      "byteLimit": 2048000,
      "rowLimit": 10000
     },
     "inputWidgets": {},
     "nuid": "8396df44-d408-4bbf-a55d-e14377d45f83",
     "showTitle": false,
     "title": ""
    }
   },
   "outputs": [
    {
     "name": "stderr",
     "output_type": "stream",
     "text": [
      "/opt/homebrew/lib/python3.11/site-packages/pydantic/_internal/_fields.py:128: UserWarning: Field \"model_server_url\" has conflict with protected namespace \"model_\".\n",
      "\n",
      "You may be able to resolve this warning by setting `model_config['protected_namespaces'] = ()`.\n",
      "  warnings.warn(\n",
      "/opt/homebrew/lib/python3.11/site-packages/pydantic/_internal/_config.py:317: UserWarning: Valid config keys have changed in V2:\n",
      "* 'schema_extra' has been renamed to 'json_schema_extra'\n",
      "  warnings.warn(message, UserWarning)\n"
     ]
    }
   ],
   "source": [
    "import pandas as pd\n",
    "\n",
    "from src.dataset import DepressionDataset\n",
    "from src.train import train\n",
    "from src.model import GCN"
   ]
  },
  {
   "cell_type": "code",
   "execution_count": 2,
   "metadata": {
    "application/vnd.databricks.v1+cell": {
     "cellMetadata": {
      "byteLimit": 2048000,
      "rowLimit": 10000
     },
     "inputWidgets": {},
     "nuid": "5e608fac-0194-4cfa-9b8e-5a3226ab1a1f",
     "showTitle": false,
     "title": ""
    }
   },
   "outputs": [],
   "source": [
    "raw_train = pd.read_table(\"./data/bronze/train.tsv\", sep=\"\\t\").groupby(\"label\").head(2000).reset_index(drop=True)\n",
    "raw_dev = pd.read_table(\"./data/bronze/dev.tsv\", sep=\"\\t\")"
   ]
  },
  {
   "cell_type": "code",
   "execution_count": 3,
   "metadata": {
    "application/vnd.databricks.v1+cell": {
     "cellMetadata": {
      "byteLimit": 2048000,
      "rowLimit": 10000
     },
     "inputWidgets": {},
     "nuid": "8cb25571-c180-484b-b00b-88035f4905f6",
     "showTitle": false,
     "title": ""
    }
   },
   "outputs": [],
   "source": [
    "dataset_path = './data/gold'\n",
    "dataset_root = dataset_path + \"/w2v_window_11\"\n",
    "\n",
    "train_dataset = DepressionDataset(\n",
    "    root=dataset_root, filename=\"\",\n",
    "    prefix=\"train\",\n",
    "    raw_data=raw_train\n",
    ")\n",
    "\n",
    "dev_dataset = DepressionDataset(\n",
    "    root=dataset_root, filename=\"\",\n",
    "    prefix=\"dev\",\n",
    "    raw_data=raw_dev\n",
    ")"
   ]
  },
  {
   "cell_type": "code",
   "execution_count": 4,
   "metadata": {
    "application/vnd.databricks.v1+cell": {
     "cellMetadata": {
      "byteLimit": 2048000,
      "rowLimit": 10000
     },
     "inputWidgets": {},
     "nuid": "56cd893b-7e93-4ca8-8471-3d7f773b1442",
     "showTitle": false,
     "title": ""
    }
   },
   "outputs": [],
   "source": [
    "HYPERPARAMETERS = {\n",
    "    \"n_epochs\": [300],\n",
    "    \"batch_size\": [32, 128, 64],\n",
    "    \"learning_rate\": [0.1, 0.05, 0.01, 0.001],\n",
    "    \"weight_decay\": [0.0001, 0.00001, 0.001],\n",
    "    \"sgd_momentum\": [0.9, 0.8, 0.5],\n",
    "    \"scheduler_gamma\": [0.995, 0.9, 0.8, 0.5, 1],\n",
    "    \"model_embedding_size\": [8, 16, 32, 64, 128],\n",
    "    \"model_dense_neurons\": [16, 128, 64, 256, 32],\n",
    "    \"model_layers\": [3],\n",
    "    \"model_num_classes\": [3],\n",
    "}"
   ]
  },
  {
   "cell_type": "code",
   "execution_count": null,
   "metadata": {},
   "outputs": [],
   "source": [
    "initial_custom"
   ]
  },
  {
   "cell_type": "code",
   "execution_count": 5,
   "metadata": {
    "application/vnd.databricks.v1+cell": {
     "cellMetadata": {
      "byteLimit": 2048000,
      "rowLimit": 10000
     },
     "inputWidgets": {},
     "nuid": "4c15e0af-4a93-4df4-be21-cf3b6fcc25f5",
     "showTitle": false,
     "title": ""
    }
   },
   "outputs": [
    {
     "name": "stderr",
     "output_type": "stream",
     "text": [
      "Ep10 | TrLoss: 0.7329 | ValLoss: 1.0788 | EarStop: 1/10:   5%|▌         | 15/300 [07:56<2:30:46, 31.74s/it]\n"
     ]
    },
    {
     "ename": "KeyboardInterrupt",
     "evalue": "",
     "output_type": "error",
     "traceback": [
      "\u001b[0;31m---------------------------------------------------------------------------\u001b[0m",
      "\u001b[0;31mKeyboardInterrupt\u001b[0m                         Traceback (most recent call last)",
      "\u001b[1;32m/Users/nomomon/Desktop/research paper/project/parameter search.ipynb Cell 5\u001b[0m line \u001b[0;36m1\n\u001b[1;32m      <a href='vscode-notebook-cell:/Users/nomomon/Desktop/research%20paper/project/parameter%20search.ipynb#W5sZmlsZQ%3D%3D?line=4'>5</a>\u001b[0m config[\u001b[39m\"\u001b[39m\u001b[39mnum_iteration\u001b[39m\u001b[39m\"\u001b[39m] \u001b[39m=\u001b[39m \u001b[39m100\u001b[39m\n\u001b[1;32m      <a href='vscode-notebook-cell:/Users/nomomon/Desktop/research%20paper/project/parameter%20search.ipynb#W5sZmlsZQ%3D%3D?line=6'>7</a>\u001b[0m tuner \u001b[39m=\u001b[39m Tuner(HYPERPARAMETERS, \n\u001b[1;32m      <a href='vscode-notebook-cell:/Users/nomomon/Desktop/research%20paper/project/parameter%20search.ipynb#W5sZmlsZQ%3D%3D?line=7'>8</a>\u001b[0m               objective\u001b[39m=\u001b[39m\u001b[39mlambda\u001b[39;00m params: [train(param, train_dataset, dev_dataset, GCN) \u001b[39mfor\u001b[39;00m param \u001b[39min\u001b[39;00m params],\n\u001b[1;32m      <a href='vscode-notebook-cell:/Users/nomomon/Desktop/research%20paper/project/parameter%20search.ipynb#W5sZmlsZQ%3D%3D?line=8'>9</a>\u001b[0m               conf_dict\u001b[39m=\u001b[39mconfig) \n\u001b[0;32m---> <a href='vscode-notebook-cell:/Users/nomomon/Desktop/research%20paper/project/parameter%20search.ipynb#W5sZmlsZQ%3D%3D?line=9'>10</a>\u001b[0m results \u001b[39m=\u001b[39m tuner\u001b[39m.\u001b[39;49mminimize()\n",
      "File \u001b[0;32m/opt/homebrew/lib/python3.11/site-packages/mango/tuner.py:160\u001b[0m, in \u001b[0;36mTuner.minimize\u001b[0;34m(self)\u001b[0m\n\u001b[1;32m    158\u001b[0m \u001b[39mdef\u001b[39;00m \u001b[39mminimize\u001b[39m(\u001b[39mself\u001b[39m):\n\u001b[1;32m    159\u001b[0m     \u001b[39mself\u001b[39m\u001b[39m.\u001b[39mmaximize_objective \u001b[39m=\u001b[39m \u001b[39mFalse\u001b[39;00m\n\u001b[0;32m--> 160\u001b[0m     \u001b[39mreturn\u001b[39;00m \u001b[39mself\u001b[39;49m\u001b[39m.\u001b[39;49mrun()\n",
      "File \u001b[0;32m/opt/homebrew/lib/python3.11/site-packages/mango/tuner.py:147\u001b[0m, in \u001b[0;36mTuner.run\u001b[0;34m(self)\u001b[0m\n\u001b[1;32m    145\u001b[0m \u001b[39mdef\u001b[39;00m \u001b[39mrun\u001b[39m(\u001b[39mself\u001b[39m):\n\u001b[1;32m    146\u001b[0m     \u001b[39mif\u001b[39;00m \u001b[39mself\u001b[39m\u001b[39m.\u001b[39mconfig\u001b[39m.\u001b[39mis_bayesian:\n\u001b[0;32m--> 147\u001b[0m         \u001b[39mself\u001b[39m\u001b[39m.\u001b[39mresults \u001b[39m=\u001b[39m \u001b[39mself\u001b[39;49m\u001b[39m.\u001b[39;49mrunBayesianOptimizer()\n\u001b[1;32m    148\u001b[0m     \u001b[39melif\u001b[39;00m \u001b[39mself\u001b[39m\u001b[39m.\u001b[39mconfig\u001b[39m.\u001b[39mis_random:\n\u001b[1;32m    149\u001b[0m         \u001b[39mself\u001b[39m\u001b[39m.\u001b[39mresults \u001b[39m=\u001b[39m \u001b[39mself\u001b[39m\u001b[39m.\u001b[39mrunRandomOptimizer()\n",
      "File \u001b[0;32m/opt/homebrew/lib/python3.11/site-packages/mango/tuner.py:208\u001b[0m, in \u001b[0;36mTuner.runBayesianOptimizer\u001b[0;34m(self)\u001b[0m\n\u001b[1;32m    205\u001b[0m \u001b[39mdef\u001b[39;00m \u001b[39mrunBayesianOptimizer\u001b[39m(\u001b[39mself\u001b[39m):\n\u001b[1;32m    206\u001b[0m     results \u001b[39m=\u001b[39m \u001b[39mdict\u001b[39m()\n\u001b[0;32m--> 208\u001b[0m     X_list, Y_list, X_tried \u001b[39m=\u001b[39m \u001b[39mself\u001b[39;49m\u001b[39m.\u001b[39;49mrun_initial()\n\u001b[1;32m    210\u001b[0m     \u001b[39m# evaluated hyper parameters are used\u001b[39;00m\n\u001b[1;32m    211\u001b[0m     X_init \u001b[39m=\u001b[39m \u001b[39mself\u001b[39m\u001b[39m.\u001b[39mds\u001b[39m.\u001b[39mconvert_GP_space(X_list)\n",
      "File \u001b[0;32m/opt/homebrew/lib/python3.11/site-packages/mango/tuner.py:185\u001b[0m, in \u001b[0;36mTuner.run_initial\u001b[0;34m(self)\u001b[0m\n\u001b[1;32m    182\u001b[0m \u001b[39melse\u001b[39;00m:\n\u001b[1;32m    183\u001b[0m     \u001b[39m# getting first few random values\u001b[39;00m\n\u001b[1;32m    184\u001b[0m     X_tried \u001b[39m=\u001b[39m \u001b[39mself\u001b[39m\u001b[39m.\u001b[39mds\u001b[39m.\u001b[39mget_random_sample(\u001b[39mself\u001b[39m\u001b[39m.\u001b[39mconfig\u001b[39m.\u001b[39minitial_random)\n\u001b[0;32m--> 185\u001b[0m     X_list, Y_list \u001b[39m=\u001b[39m \u001b[39mself\u001b[39;49m\u001b[39m.\u001b[39;49mrunUserObjective(X_tried)\n\u001b[1;32m    187\u001b[0m     \u001b[39m# in case initial random results are invalid try different samples\u001b[39;00m\n\u001b[1;32m    188\u001b[0m     n_tries \u001b[39m=\u001b[39m \u001b[39m1\u001b[39m\n",
      "File \u001b[0;32m/opt/homebrew/lib/python3.11/site-packages/mango/tuner.py:374\u001b[0m, in \u001b[0;36mTuner.runUserObjective\u001b[0;34m(self, X_next_PS)\u001b[0m\n\u001b[1;32m    371\u001b[0m \u001b[39mdef\u001b[39;00m \u001b[39mrunUserObjective\u001b[39m(\u001b[39mself\u001b[39m, X_next_PS):\n\u001b[1;32m    372\u001b[0m     \u001b[39m# initially assuming entire X_next_PS is evaluated and returned results are only Y values\u001b[39;00m\n\u001b[1;32m    373\u001b[0m     X_list_evaluated \u001b[39m=\u001b[39m X_next_PS\n\u001b[0;32m--> 374\u001b[0m     results \u001b[39m=\u001b[39m \u001b[39mself\u001b[39;49m\u001b[39m.\u001b[39;49mobjective_function(X_next_PS)\n\u001b[1;32m    375\u001b[0m     Y_list_evaluated \u001b[39m=\u001b[39m results\n\u001b[1;32m    377\u001b[0m     \u001b[39m# if result is a tuple, then there is possibility that partial values are evaluated\u001b[39;00m\n",
      "\u001b[1;32m/Users/nomomon/Desktop/research paper/project/parameter search.ipynb Cell 5\u001b[0m line \u001b[0;36m8\n\u001b[1;32m      <a href='vscode-notebook-cell:/Users/nomomon/Desktop/research%20paper/project/parameter%20search.ipynb#W5sZmlsZQ%3D%3D?line=3'>4</a>\u001b[0m config[\u001b[39m\"\u001b[39m\u001b[39moptimizer\u001b[39m\u001b[39m\"\u001b[39m] \u001b[39m=\u001b[39m \u001b[39m\"\u001b[39m\u001b[39mBayesian\u001b[39m\u001b[39m\"\u001b[39m\n\u001b[1;32m      <a href='vscode-notebook-cell:/Users/nomomon/Desktop/research%20paper/project/parameter%20search.ipynb#W5sZmlsZQ%3D%3D?line=4'>5</a>\u001b[0m config[\u001b[39m\"\u001b[39m\u001b[39mnum_iteration\u001b[39m\u001b[39m\"\u001b[39m] \u001b[39m=\u001b[39m \u001b[39m100\u001b[39m\n\u001b[1;32m      <a href='vscode-notebook-cell:/Users/nomomon/Desktop/research%20paper/project/parameter%20search.ipynb#W5sZmlsZQ%3D%3D?line=6'>7</a>\u001b[0m tuner \u001b[39m=\u001b[39m Tuner(HYPERPARAMETERS, \n\u001b[0;32m----> <a href='vscode-notebook-cell:/Users/nomomon/Desktop/research%20paper/project/parameter%20search.ipynb#W5sZmlsZQ%3D%3D?line=7'>8</a>\u001b[0m               objective\u001b[39m=\u001b[39m\u001b[39mlambda\u001b[39;00m params: [train(param, train_dataset, dev_dataset, GCN) \u001b[39mfor\u001b[39;49;00m param \u001b[39min\u001b[39;49;00m params],\n\u001b[1;32m      <a href='vscode-notebook-cell:/Users/nomomon/Desktop/research%20paper/project/parameter%20search.ipynb#W5sZmlsZQ%3D%3D?line=8'>9</a>\u001b[0m               conf_dict\u001b[39m=\u001b[39mconfig) \n\u001b[1;32m     <a href='vscode-notebook-cell:/Users/nomomon/Desktop/research%20paper/project/parameter%20search.ipynb#W5sZmlsZQ%3D%3D?line=9'>10</a>\u001b[0m results \u001b[39m=\u001b[39m tuner\u001b[39m.\u001b[39mminimize()\n",
      "\u001b[1;32m/Users/nomomon/Desktop/research paper/project/parameter search.ipynb Cell 5\u001b[0m line \u001b[0;36m8\n\u001b[1;32m      <a href='vscode-notebook-cell:/Users/nomomon/Desktop/research%20paper/project/parameter%20search.ipynb#W5sZmlsZQ%3D%3D?line=3'>4</a>\u001b[0m config[\u001b[39m\"\u001b[39m\u001b[39moptimizer\u001b[39m\u001b[39m\"\u001b[39m] \u001b[39m=\u001b[39m \u001b[39m\"\u001b[39m\u001b[39mBayesian\u001b[39m\u001b[39m\"\u001b[39m\n\u001b[1;32m      <a href='vscode-notebook-cell:/Users/nomomon/Desktop/research%20paper/project/parameter%20search.ipynb#W5sZmlsZQ%3D%3D?line=4'>5</a>\u001b[0m config[\u001b[39m\"\u001b[39m\u001b[39mnum_iteration\u001b[39m\u001b[39m\"\u001b[39m] \u001b[39m=\u001b[39m \u001b[39m100\u001b[39m\n\u001b[1;32m      <a href='vscode-notebook-cell:/Users/nomomon/Desktop/research%20paper/project/parameter%20search.ipynb#W5sZmlsZQ%3D%3D?line=6'>7</a>\u001b[0m tuner \u001b[39m=\u001b[39m Tuner(HYPERPARAMETERS, \n\u001b[0;32m----> <a href='vscode-notebook-cell:/Users/nomomon/Desktop/research%20paper/project/parameter%20search.ipynb#W5sZmlsZQ%3D%3D?line=7'>8</a>\u001b[0m               objective\u001b[39m=\u001b[39m\u001b[39mlambda\u001b[39;00m params: [train(param, train_dataset, dev_dataset, GCN) \u001b[39mfor\u001b[39;00m param \u001b[39min\u001b[39;00m params],\n\u001b[1;32m      <a href='vscode-notebook-cell:/Users/nomomon/Desktop/research%20paper/project/parameter%20search.ipynb#W5sZmlsZQ%3D%3D?line=8'>9</a>\u001b[0m               conf_dict\u001b[39m=\u001b[39mconfig) \n\u001b[1;32m     <a href='vscode-notebook-cell:/Users/nomomon/Desktop/research%20paper/project/parameter%20search.ipynb#W5sZmlsZQ%3D%3D?line=9'>10</a>\u001b[0m results \u001b[39m=\u001b[39m tuner\u001b[39m.\u001b[39mminimize()\n",
      "File \u001b[0;32m~/Desktop/research paper/project/src/train.py:131\u001b[0m, in \u001b[0;36mtrain\u001b[0;34m(params, train_dataset, valid_dataset, model_class)\u001b[0m\n\u001b[1;32m    129\u001b[0m \u001b[39mif\u001b[39;00m epoch \u001b[39m%\u001b[39m \u001b[39m5\u001b[39m \u001b[39m==\u001b[39m \u001b[39m0\u001b[39m:\n\u001b[1;32m    130\u001b[0m     model\u001b[39m.\u001b[39meval()\n\u001b[0;32m--> 131\u001b[0m     valid_loss \u001b[39m=\u001b[39m step(epoch, model, valid_loader, optimizer, loss_fn, device, step_type\u001b[39m=\u001b[39;49m\u001b[39m\"\u001b[39;49m\u001b[39mvalid\u001b[39;49m\u001b[39m\"\u001b[39;49m)\n\u001b[1;32m    132\u001b[0m     mlflow\u001b[39m.\u001b[39mlog_metric(\u001b[39m\"\u001b[39m\u001b[39mvalid_loss\u001b[39m\u001b[39m\"\u001b[39m, valid_loss, step\u001b[39m=\u001b[39mepoch)\n\u001b[1;32m    134\u001b[0m     \u001b[39mif\u001b[39;00m best_valid_loss \u001b[39m-\u001b[39m valid_loss \u001b[39m>\u001b[39m \u001b[39m1e-4\u001b[39m:\n",
      "File \u001b[0;32m~/Desktop/research paper/project/src/train.py:65\u001b[0m, in \u001b[0;36mstep\u001b[0;34m(epoch, model, data_loader, optimizer, loss_fn, device, step_type)\u001b[0m\n\u001b[1;32m     62\u001b[0m total_loss \u001b[39m=\u001b[39m \u001b[39m0\u001b[39m\n\u001b[1;32m     63\u001b[0m total_steps \u001b[39m=\u001b[39m \u001b[39mlen\u001b[39m(data_loader)\n\u001b[0;32m---> 65\u001b[0m \u001b[39mfor\u001b[39;00m batch \u001b[39min\u001b[39;00m data_loader:\n\u001b[1;32m     66\u001b[0m     optimizer\u001b[39m.\u001b[39mzero_grad()\n\u001b[1;32m     67\u001b[0m     batch\u001b[39m.\u001b[39mto(device)\n",
      "File \u001b[0;32m/opt/homebrew/lib/python3.11/site-packages/torch/utils/data/dataloader.py:630\u001b[0m, in \u001b[0;36m_BaseDataLoaderIter.__next__\u001b[0;34m(self)\u001b[0m\n\u001b[1;32m    627\u001b[0m \u001b[39mif\u001b[39;00m \u001b[39mself\u001b[39m\u001b[39m.\u001b[39m_sampler_iter \u001b[39mis\u001b[39;00m \u001b[39mNone\u001b[39;00m:\n\u001b[1;32m    628\u001b[0m     \u001b[39m# TODO(https://github.com/pytorch/pytorch/issues/76750)\u001b[39;00m\n\u001b[1;32m    629\u001b[0m     \u001b[39mself\u001b[39m\u001b[39m.\u001b[39m_reset()  \u001b[39m# type: ignore[call-arg]\u001b[39;00m\n\u001b[0;32m--> 630\u001b[0m data \u001b[39m=\u001b[39m \u001b[39mself\u001b[39;49m\u001b[39m.\u001b[39;49m_next_data()\n\u001b[1;32m    631\u001b[0m \u001b[39mself\u001b[39m\u001b[39m.\u001b[39m_num_yielded \u001b[39m+\u001b[39m\u001b[39m=\u001b[39m \u001b[39m1\u001b[39m\n\u001b[1;32m    632\u001b[0m \u001b[39mif\u001b[39;00m \u001b[39mself\u001b[39m\u001b[39m.\u001b[39m_dataset_kind \u001b[39m==\u001b[39m _DatasetKind\u001b[39m.\u001b[39mIterable \u001b[39mand\u001b[39;00m \\\n\u001b[1;32m    633\u001b[0m         \u001b[39mself\u001b[39m\u001b[39m.\u001b[39m_IterableDataset_len_called \u001b[39mis\u001b[39;00m \u001b[39mnot\u001b[39;00m \u001b[39mNone\u001b[39;00m \u001b[39mand\u001b[39;00m \\\n\u001b[1;32m    634\u001b[0m         \u001b[39mself\u001b[39m\u001b[39m.\u001b[39m_num_yielded \u001b[39m>\u001b[39m \u001b[39mself\u001b[39m\u001b[39m.\u001b[39m_IterableDataset_len_called:\n",
      "File \u001b[0;32m/opt/homebrew/lib/python3.11/site-packages/torch/utils/data/dataloader.py:674\u001b[0m, in \u001b[0;36m_SingleProcessDataLoaderIter._next_data\u001b[0;34m(self)\u001b[0m\n\u001b[1;32m    672\u001b[0m \u001b[39mdef\u001b[39;00m \u001b[39m_next_data\u001b[39m(\u001b[39mself\u001b[39m):\n\u001b[1;32m    673\u001b[0m     index \u001b[39m=\u001b[39m \u001b[39mself\u001b[39m\u001b[39m.\u001b[39m_next_index()  \u001b[39m# may raise StopIteration\u001b[39;00m\n\u001b[0;32m--> 674\u001b[0m     data \u001b[39m=\u001b[39m \u001b[39mself\u001b[39;49m\u001b[39m.\u001b[39;49m_dataset_fetcher\u001b[39m.\u001b[39;49mfetch(index)  \u001b[39m# may raise StopIteration\u001b[39;00m\n\u001b[1;32m    675\u001b[0m     \u001b[39mif\u001b[39;00m \u001b[39mself\u001b[39m\u001b[39m.\u001b[39m_pin_memory:\n\u001b[1;32m    676\u001b[0m         data \u001b[39m=\u001b[39m _utils\u001b[39m.\u001b[39mpin_memory\u001b[39m.\u001b[39mpin_memory(data, \u001b[39mself\u001b[39m\u001b[39m.\u001b[39m_pin_memory_device)\n",
      "File \u001b[0;32m/opt/homebrew/lib/python3.11/site-packages/torch/utils/data/_utils/fetch.py:51\u001b[0m, in \u001b[0;36m_MapDatasetFetcher.fetch\u001b[0;34m(self, possibly_batched_index)\u001b[0m\n\u001b[1;32m     49\u001b[0m         data \u001b[39m=\u001b[39m \u001b[39mself\u001b[39m\u001b[39m.\u001b[39mdataset\u001b[39m.\u001b[39m__getitems__(possibly_batched_index)\n\u001b[1;32m     50\u001b[0m     \u001b[39melse\u001b[39;00m:\n\u001b[0;32m---> 51\u001b[0m         data \u001b[39m=\u001b[39m [\u001b[39mself\u001b[39;49m\u001b[39m.\u001b[39;49mdataset[idx] \u001b[39mfor\u001b[39;49;00m idx \u001b[39min\u001b[39;49;00m possibly_batched_index]\n\u001b[1;32m     52\u001b[0m \u001b[39melse\u001b[39;00m:\n\u001b[1;32m     53\u001b[0m     data \u001b[39m=\u001b[39m \u001b[39mself\u001b[39m\u001b[39m.\u001b[39mdataset[possibly_batched_index]\n",
      "File \u001b[0;32m/opt/homebrew/lib/python3.11/site-packages/torch/utils/data/_utils/fetch.py:51\u001b[0m, in \u001b[0;36m<listcomp>\u001b[0;34m(.0)\u001b[0m\n\u001b[1;32m     49\u001b[0m         data \u001b[39m=\u001b[39m \u001b[39mself\u001b[39m\u001b[39m.\u001b[39mdataset\u001b[39m.\u001b[39m__getitems__(possibly_batched_index)\n\u001b[1;32m     50\u001b[0m     \u001b[39melse\u001b[39;00m:\n\u001b[0;32m---> 51\u001b[0m         data \u001b[39m=\u001b[39m [\u001b[39mself\u001b[39;49m\u001b[39m.\u001b[39;49mdataset[idx] \u001b[39mfor\u001b[39;00m idx \u001b[39min\u001b[39;00m possibly_batched_index]\n\u001b[1;32m     52\u001b[0m \u001b[39melse\u001b[39;00m:\n\u001b[1;32m     53\u001b[0m     data \u001b[39m=\u001b[39m \u001b[39mself\u001b[39m\u001b[39m.\u001b[39mdataset[possibly_batched_index]\n",
      "File \u001b[0;32m/opt/homebrew/lib/python3.11/site-packages/torch_geometric/data/dataset.py:263\u001b[0m, in \u001b[0;36mDataset.__getitem__\u001b[0;34m(self, idx)\u001b[0m\n\u001b[1;32m    253\u001b[0m \u001b[39m\u001b[39m\u001b[39mr\u001b[39m\u001b[39m\"\"\"In case :obj:`idx` is of type integer, will return the data object\u001b[39;00m\n\u001b[1;32m    254\u001b[0m \u001b[39mat index :obj:`idx` (and transforms it in case :obj:`transform` is\u001b[39;00m\n\u001b[1;32m    255\u001b[0m \u001b[39mpresent).\u001b[39;00m\n\u001b[1;32m    256\u001b[0m \u001b[39mIn case :obj:`idx` is a slicing object, *e.g.*, :obj:`[2:5]`, a list, a\u001b[39;00m\n\u001b[1;32m    257\u001b[0m \u001b[39mtuple, or a :obj:`torch.Tensor` or :obj:`np.ndarray` of type long or\u001b[39;00m\n\u001b[1;32m    258\u001b[0m \u001b[39mbool, will return a subset of the dataset at the specified indices.\"\"\"\u001b[39;00m\n\u001b[1;32m    259\u001b[0m \u001b[39mif\u001b[39;00m (\u001b[39misinstance\u001b[39m(idx, (\u001b[39mint\u001b[39m, np\u001b[39m.\u001b[39minteger))\n\u001b[1;32m    260\u001b[0m         \u001b[39mor\u001b[39;00m (\u001b[39misinstance\u001b[39m(idx, Tensor) \u001b[39mand\u001b[39;00m idx\u001b[39m.\u001b[39mdim() \u001b[39m==\u001b[39m \u001b[39m0\u001b[39m)\n\u001b[1;32m    261\u001b[0m         \u001b[39mor\u001b[39;00m (\u001b[39misinstance\u001b[39m(idx, np\u001b[39m.\u001b[39mndarray) \u001b[39mand\u001b[39;00m np\u001b[39m.\u001b[39misscalar(idx))):\n\u001b[0;32m--> 263\u001b[0m     data \u001b[39m=\u001b[39m \u001b[39mself\u001b[39;49m\u001b[39m.\u001b[39;49mget(\u001b[39mself\u001b[39;49m\u001b[39m.\u001b[39;49mindices()[idx])\n\u001b[1;32m    264\u001b[0m     data \u001b[39m=\u001b[39m data \u001b[39mif\u001b[39;00m \u001b[39mself\u001b[39m\u001b[39m.\u001b[39mtransform \u001b[39mis\u001b[39;00m \u001b[39mNone\u001b[39;00m \u001b[39melse\u001b[39;00m \u001b[39mself\u001b[39m\u001b[39m.\u001b[39mtransform(data)\n\u001b[1;32m    265\u001b[0m     \u001b[39mreturn\u001b[39;00m data\n",
      "File \u001b[0;32m~/Desktop/research paper/project/src/dataset.py:165\u001b[0m, in \u001b[0;36mDepressionDataset.get\u001b[0;34m(self, idx)\u001b[0m\n\u001b[1;32m    158\u001b[0m \u001b[39m\u001b[39m\u001b[39m\"\"\"\u001b[39;00m\n\u001b[1;32m    159\u001b[0m \u001b[39mEquivalent to __getitem__ in pytorch\u001b[39;00m\n\u001b[1;32m    160\u001b[0m \u001b[39mIs not needed for PyG's InMemoryDataset\u001b[39;00m\n\u001b[1;32m    161\u001b[0m \u001b[39m\"\"\"\u001b[39;00m\n\u001b[1;32m    163\u001b[0m filename \u001b[39m=\u001b[39m \u001b[39mf\u001b[39m\u001b[39m'\u001b[39m\u001b[39mdata_\u001b[39m\u001b[39m{\u001b[39;00m\u001b[39mself\u001b[39m\u001b[39m.\u001b[39mprefix\u001b[39m}\u001b[39;00m\u001b[39m_\u001b[39m\u001b[39m{\u001b[39;00midx\u001b[39m}\u001b[39;00m\u001b[39m.pt\u001b[39m\u001b[39m'\u001b[39m\n\u001b[0;32m--> 165\u001b[0m data \u001b[39m=\u001b[39m torch\u001b[39m.\u001b[39;49mload(os\u001b[39m.\u001b[39;49mpath\u001b[39m.\u001b[39;49mjoin(\u001b[39mself\u001b[39;49m\u001b[39m.\u001b[39;49mprocessed_dir, filename))\n\u001b[1;32m    166\u001b[0m \u001b[39mreturn\u001b[39;00m data\n",
      "File \u001b[0;32m/opt/homebrew/lib/python3.11/site-packages/torch/serialization.py:993\u001b[0m, in \u001b[0;36mload\u001b[0;34m(f, map_location, pickle_module, weights_only, mmap, **pickle_load_args)\u001b[0m\n\u001b[1;32m    991\u001b[0m orig_position \u001b[39m=\u001b[39m opened_file\u001b[39m.\u001b[39mtell()\n\u001b[1;32m    992\u001b[0m overall_storage \u001b[39m=\u001b[39m \u001b[39mNone\u001b[39;00m\n\u001b[0;32m--> 993\u001b[0m \u001b[39mwith\u001b[39;00m _open_zipfile_reader(opened_file) \u001b[39mas\u001b[39;00m opened_zipfile:\n\u001b[1;32m    994\u001b[0m     \u001b[39mif\u001b[39;00m _is_torchscript_zip(opened_zipfile):\n\u001b[1;32m    995\u001b[0m         warnings\u001b[39m.\u001b[39mwarn(\u001b[39m\"\u001b[39m\u001b[39m'\u001b[39m\u001b[39mtorch.load\u001b[39m\u001b[39m'\u001b[39m\u001b[39m received a zip file that looks like a TorchScript archive\u001b[39m\u001b[39m\"\u001b[39m\n\u001b[1;32m    996\u001b[0m                       \u001b[39m\"\u001b[39m\u001b[39m dispatching to \u001b[39m\u001b[39m'\u001b[39m\u001b[39mtorch.jit.load\u001b[39m\u001b[39m'\u001b[39m\u001b[39m (call \u001b[39m\u001b[39m'\u001b[39m\u001b[39mtorch.jit.load\u001b[39m\u001b[39m'\u001b[39m\u001b[39m directly to\u001b[39m\u001b[39m\"\u001b[39m\n\u001b[1;32m    997\u001b[0m                       \u001b[39m\"\u001b[39m\u001b[39m silence this warning)\u001b[39m\u001b[39m\"\u001b[39m, \u001b[39mUserWarning\u001b[39;00m)\n",
      "File \u001b[0;32m/opt/homebrew/lib/python3.11/site-packages/torch/serialization.py:447\u001b[0m, in \u001b[0;36m_open_zipfile_reader.__init__\u001b[0;34m(self, name_or_buffer)\u001b[0m\n\u001b[1;32m    446\u001b[0m \u001b[39mdef\u001b[39;00m \u001b[39m__init__\u001b[39m(\u001b[39mself\u001b[39m, name_or_buffer) \u001b[39m-\u001b[39m\u001b[39m>\u001b[39m \u001b[39mNone\u001b[39;00m:\n\u001b[0;32m--> 447\u001b[0m     \u001b[39msuper\u001b[39m()\u001b[39m.\u001b[39m\u001b[39m__init__\u001b[39m(torch\u001b[39m.\u001b[39;49m_C\u001b[39m.\u001b[39;49mPyTorchFileReader(name_or_buffer))\n",
      "\u001b[0;31mKeyboardInterrupt\u001b[0m: "
     ]
    }
   ],
   "source": [
    "from mango import Tuner\n",
    "\n",
    "config = dict()\n",
    "config[\"optimizer\"] = \"Bayesian\"\n",
    "config[\"num_iteration\"] = 100\n",
    "congfig[\"initial_custom\"] = initial_custom\n",
    "\n",
    "tuner = Tuner(HYPERPARAMETERS, \n",
    "              objective=lambda params: [train(param, train_dataset, dev_dataset, GCN) for param in params],\n",
    "              conf_dict=config)\n",
    "results = tuner.minimize()"
   ]
  },
  {
   "cell_type": "code",
   "execution_count": 6,
   "metadata": {},
   "outputs": [
    {
     "name": "stdout",
     "output_type": "stream",
     "text": [
      "/opt/homebrew/lib/python3.11/site-packages/pydantic/_internal/_fields.py:128: UserWarning: Field \"model_server_url\" has conflict with protected namespace \"model_\".\n",
      "\n",
      "You may be able to resolve this warning by setting `model_config['protected_namespaces'] = ()`.\n",
      "  warnings.warn(\n",
      "/opt/homebrew/lib/python3.11/site-packages/pydantic/_internal/_config.py:317: UserWarning: Valid config keys have changed in V2:\n",
      "* 'schema_extra' has been renamed to 'json_schema_extra'\n",
      "  warnings.warn(message, UserWarning)\n",
      "[2023-11-30 09:49:11 +0100] [24862] [INFO] Starting gunicorn 21.2.0\n",
      "[2023-11-30 09:49:11 +0100] [24862] [ERROR] Connection in use: ('127.0.0.1', 5000)\n",
      "[2023-11-30 09:49:11 +0100] [24862] [ERROR] Retrying in 1 second.\n",
      "[2023-11-30 09:49:12 +0100] [24862] [ERROR] Connection in use: ('127.0.0.1', 5000)\n",
      "[2023-11-30 09:49:12 +0100] [24862] [ERROR] Retrying in 1 second.\n",
      "[2023-11-30 09:49:13 +0100] [24862] [ERROR] Connection in use: ('127.0.0.1', 5000)\n",
      "[2023-11-30 09:49:13 +0100] [24862] [ERROR] Retrying in 1 second.\n",
      "[2023-11-30 09:49:14 +0100] [24862] [ERROR] Connection in use: ('127.0.0.1', 5000)\n",
      "[2023-11-30 09:49:14 +0100] [24862] [ERROR] Retrying in 1 second.\n",
      "[2023-11-30 09:49:15 +0100] [24862] [ERROR] Connection in use: ('127.0.0.1', 5000)\n",
      "[2023-11-30 09:49:15 +0100] [24862] [ERROR] Retrying in 1 second.\n",
      "[2023-11-30 09:49:16 +0100] [24862] [ERROR] Can't connect to ('127.0.0.1', 5000)\n",
      "Running the mlflow server failed. Please see the logs above for details.\n"
     ]
    }
   ],
   "source": [
    "!mlflow server"
   ]
  },
  {
   "cell_type": "code",
   "execution_count": null,
   "metadata": {},
   "outputs": [],
   "source": []
  }
 ],
 "metadata": {
  "application/vnd.databricks.v1+notebook": {
   "dashboards": [],
   "language": "python",
   "notebookMetadata": {
    "pythonIndentUnit": 4
   },
   "notebookName": "parameter search",
   "widgets": {}
  },
  "kernelspec": {
   "display_name": "Python 3",
   "language": "python",
   "name": "python3"
  },
  "language_info": {
   "codemirror_mode": {
    "name": "ipython",
    "version": 3
   },
   "file_extension": ".py",
   "mimetype": "text/x-python",
   "name": "python",
   "nbconvert_exporter": "python",
   "pygments_lexer": "ipython3",
   "version": "3.11.5"
  }
 },
 "nbformat": 4,
 "nbformat_minor": 0
}
