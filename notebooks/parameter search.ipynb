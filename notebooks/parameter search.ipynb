{
 "cells": [
  {
   "cell_type": "code",
   "execution_count": 4,
   "metadata": {
    "application/vnd.databricks.v1+cell": {
     "cellMetadata": {
      "byteLimit": 2048000,
      "rowLimit": 10000
     },
     "inputWidgets": {},
     "nuid": "8396df44-d408-4bbf-a55d-e14377d45f83",
     "showTitle": false,
     "title": ""
    }
   },
   "outputs": [],
   "source": [
    "import pandas as pd\n",
    "\n",
    "from src.dataset import DepressionDataset\n",
    "from src.train import train\n",
    "from src.model import GCN"
   ]
  },
  {
   "cell_type": "code",
   "execution_count": 5,
   "metadata": {
    "application/vnd.databricks.v1+cell": {
     "cellMetadata": {
      "byteLimit": 2048000,
      "rowLimit": 10000
     },
     "inputWidgets": {},
     "nuid": "5e608fac-0194-4cfa-9b8e-5a3226ab1a1f",
     "showTitle": false,
     "title": ""
    }
   },
   "outputs": [],
   "source": [
    "raw_train = pd.read_table(\"./data/bronze/train.tsv\", sep=\"\\t\").groupby(\"label\").head(2000).reset_index(drop=True)\n",
    "raw_dev = pd.read_table(\"./data/bronze/dev.tsv\", sep=\"\\t\")"
   ]
  },
  {
   "cell_type": "code",
   "execution_count": 6,
   "metadata": {
    "application/vnd.databricks.v1+cell": {
     "cellMetadata": {
      "byteLimit": 2048000,
      "rowLimit": 10000
     },
     "inputWidgets": {},
     "nuid": "8cb25571-c180-484b-b00b-88035f4905f6",
     "showTitle": false,
     "title": ""
    }
   },
   "outputs": [],
   "source": [
    "dataset_path = './data/gold'\n",
    "dataset_root = dataset_path + \"/w2v_dependancy_parsing\"\n",
    "\n",
    "train_dataset = DepressionDataset(\n",
    "    root=dataset_root, filename=\"\",\n",
    "    prefix=\"train\",\n",
    "    raw_data=raw_train\n",
    ")\n",
    "\n",
    "dev_dataset = DepressionDataset(\n",
    "    root=dataset_root, filename=\"\",\n",
    "    prefix=\"dev\",\n",
    "    raw_data=raw_dev\n",
    ")"
   ]
  },
  {
   "cell_type": "code",
   "execution_count": 7,
   "metadata": {
    "application/vnd.databricks.v1+cell": {
     "cellMetadata": {
      "byteLimit": 2048000,
      "rowLimit": 10000
     },
     "inputWidgets": {},
     "nuid": "56cd893b-7e93-4ca8-8471-3d7f773b1442",
     "showTitle": false,
     "title": ""
    }
   },
   "outputs": [],
   "source": [
    "HYPERPARAMETERS = {\n",
    "    \"n_epochs\": [300],\n",
    "    \"batch_size\": [32, 128, 64],\n",
    "    \"learning_rate\": [0.1, 0.05, 0.01, 0.001],\n",
    "    \"weight_decay\": [0.0001, 0.00001, 0.001],\n",
    "    \"sgd_momentum\": [0.9, 0.8, 0.5],\n",
    "    \"scheduler_gamma\": [0.995, 0.9, 0.8, 0.5, 1],\n",
    "    \"model_embedding_size\": [8, 16, 32, 64, 128],\n",
    "    \"model_dense_neurons\": [16, 128, 64, 256, 32],\n",
    "    \"model_dropout\": [0.1, 0.2, 0.3, 0.4, 0.5],\n",
    "    \"model_layers\": [3],\n",
    "    \"model_num_classes\": [3],\n",
    "}"
   ]
  },
  {
   "cell_type": "code",
   "execution_count": 8,
   "metadata": {},
   "outputs": [
    {
     "name": "stderr",
     "output_type": "stream",
     "text": [
      "2023/12/07 13:40:21 INFO mlflow.tracking.fluent: Experiment with name '(w2v_dependancy_parsing)' does not exist. Creating a new experiment.\n"
     ]
    },
    {
     "data": {
      "text/plain": [
       "<Experiment: artifact_location='file:///Users/nomomon/Desktop/research%20paper/project/mlruns/247848552587979337', creation_time=1701952821494, experiment_id='247848552587979337', last_update_time=1701952821494, lifecycle_stage='active', name='(w2v_dependancy_parsing)', tags={}>"
      ]
     },
     "execution_count": 8,
     "metadata": {},
     "output_type": "execute_result"
    }
   ],
   "source": [
    "import mlflow\n",
    "mlflow.set_experiment(\"(w2v_dependancy_parsing)\")"
   ]
  },
  {
   "cell_type": "code",
   "execution_count": 7,
   "metadata": {},
   "outputs": [
    {
     "ename": "KeyError",
     "evalue": "\"None of [Index(['params.n_epochs', 'params.batch_size', 'params.learning_rate',\\n       'params.weight_decay', 'params.sgd_momentum', 'params.scheduler_gamma',\\n       'params.model_embedding_size', 'params.model_dense_neurons',\\n       'params.model_dropout', 'params.model_layers',\\n       'params.model_num_classes', 'metrics.valid_loss'],\\n      dtype='object')] are in the [columns]\"",
     "output_type": "error",
     "traceback": [
      "\u001b[0;31m---------------------------------------------------------------------------\u001b[0m",
      "\u001b[0;31mKeyError\u001b[0m                                  Traceback (most recent call last)",
      "\u001b[1;32m/Users/nomomon/Desktop/research paper/project/parameter search.ipynb Cell 6\u001b[0m line \u001b[0;36m1\n\u001b[1;32m     <a href='vscode-notebook-cell:/Users/nomomon/Desktop/research%20paper/project/parameter%20search.ipynb#W4sZmlsZQ%3D%3D?line=9'>10</a>\u001b[0m     keys \u001b[39m=\u001b[39m \u001b[39mlist\u001b[39m(HYPERPARAMETERS\u001b[39m.\u001b[39mkeys())\n\u001b[1;32m     <a href='vscode-notebook-cell:/Users/nomomon/Desktop/research%20paper/project/parameter%20search.ipynb#W4sZmlsZQ%3D%3D?line=10'>11</a>\u001b[0m     keys \u001b[39m=\u001b[39m [\u001b[39m'\u001b[39m\u001b[39mparams.\u001b[39m\u001b[39m'\u001b[39m \u001b[39m+\u001b[39m key \u001b[39mfor\u001b[39;00m key \u001b[39min\u001b[39;00m keys]\n\u001b[0;32m---> <a href='vscode-notebook-cell:/Users/nomomon/Desktop/research%20paper/project/parameter%20search.ipynb#W4sZmlsZQ%3D%3D?line=12'>13</a>\u001b[0m     hyperparameters \u001b[39m=\u001b[39m runs[keys \u001b[39m+\u001b[39;49m [\u001b[39m'\u001b[39;49m\u001b[39mmetrics.valid_loss\u001b[39;49m\u001b[39m'\u001b[39;49m]]\n\u001b[1;32m     <a href='vscode-notebook-cell:/Users/nomomon/Desktop/research%20paper/project/parameter%20search.ipynb#W4sZmlsZQ%3D%3D?line=13'>14</a>\u001b[0m     valid_loss \u001b[39m=\u001b[39m hyperparameters[\u001b[39m'\u001b[39m\u001b[39mmetrics.valid_loss\u001b[39m\u001b[39m'\u001b[39m]\n\u001b[1;32m     <a href='vscode-notebook-cell:/Users/nomomon/Desktop/research%20paper/project/parameter%20search.ipynb#W4sZmlsZQ%3D%3D?line=14'>15</a>\u001b[0m \u001b[39melse\u001b[39;00m:\n",
      "File \u001b[0;32m/opt/homebrew/lib/python3.11/site-packages/pandas/core/frame.py:3902\u001b[0m, in \u001b[0;36mDataFrame.__getitem__\u001b[0;34m(self, key)\u001b[0m\n\u001b[1;32m   3900\u001b[0m     \u001b[39mif\u001b[39;00m is_iterator(key):\n\u001b[1;32m   3901\u001b[0m         key \u001b[39m=\u001b[39m \u001b[39mlist\u001b[39m(key)\n\u001b[0;32m-> 3902\u001b[0m     indexer \u001b[39m=\u001b[39m \u001b[39mself\u001b[39;49m\u001b[39m.\u001b[39;49mcolumns\u001b[39m.\u001b[39;49m_get_indexer_strict(key, \u001b[39m\"\u001b[39;49m\u001b[39mcolumns\u001b[39;49m\u001b[39m\"\u001b[39;49m)[\u001b[39m1\u001b[39m]\n\u001b[1;32m   3904\u001b[0m \u001b[39m# take() does not accept boolean indexers\u001b[39;00m\n\u001b[1;32m   3905\u001b[0m \u001b[39mif\u001b[39;00m \u001b[39mgetattr\u001b[39m(indexer, \u001b[39m\"\u001b[39m\u001b[39mdtype\u001b[39m\u001b[39m\"\u001b[39m, \u001b[39mNone\u001b[39;00m) \u001b[39m==\u001b[39m \u001b[39mbool\u001b[39m:\n",
      "File \u001b[0;32m/opt/homebrew/lib/python3.11/site-packages/pandas/core/indexes/base.py:6114\u001b[0m, in \u001b[0;36mIndex._get_indexer_strict\u001b[0;34m(self, key, axis_name)\u001b[0m\n\u001b[1;32m   6111\u001b[0m \u001b[39melse\u001b[39;00m:\n\u001b[1;32m   6112\u001b[0m     keyarr, indexer, new_indexer \u001b[39m=\u001b[39m \u001b[39mself\u001b[39m\u001b[39m.\u001b[39m_reindex_non_unique(keyarr)\n\u001b[0;32m-> 6114\u001b[0m \u001b[39mself\u001b[39;49m\u001b[39m.\u001b[39;49m_raise_if_missing(keyarr, indexer, axis_name)\n\u001b[1;32m   6116\u001b[0m keyarr \u001b[39m=\u001b[39m \u001b[39mself\u001b[39m\u001b[39m.\u001b[39mtake(indexer)\n\u001b[1;32m   6117\u001b[0m \u001b[39mif\u001b[39;00m \u001b[39misinstance\u001b[39m(key, Index):\n\u001b[1;32m   6118\u001b[0m     \u001b[39m# GH 42790 - Preserve name from an Index\u001b[39;00m\n",
      "File \u001b[0;32m/opt/homebrew/lib/python3.11/site-packages/pandas/core/indexes/base.py:6175\u001b[0m, in \u001b[0;36mIndex._raise_if_missing\u001b[0;34m(self, key, indexer, axis_name)\u001b[0m\n\u001b[1;32m   6173\u001b[0m     \u001b[39mif\u001b[39;00m use_interval_msg:\n\u001b[1;32m   6174\u001b[0m         key \u001b[39m=\u001b[39m \u001b[39mlist\u001b[39m(key)\n\u001b[0;32m-> 6175\u001b[0m     \u001b[39mraise\u001b[39;00m \u001b[39mKeyError\u001b[39;00m(\u001b[39mf\u001b[39m\u001b[39m\"\u001b[39m\u001b[39mNone of [\u001b[39m\u001b[39m{\u001b[39;00mkey\u001b[39m}\u001b[39;00m\u001b[39m] are in the [\u001b[39m\u001b[39m{\u001b[39;00maxis_name\u001b[39m}\u001b[39;00m\u001b[39m]\u001b[39m\u001b[39m\"\u001b[39m)\n\u001b[1;32m   6177\u001b[0m not_found \u001b[39m=\u001b[39m \u001b[39mlist\u001b[39m(ensure_index(key)[missing_mask\u001b[39m.\u001b[39mnonzero()[\u001b[39m0\u001b[39m]]\u001b[39m.\u001b[39munique())\n\u001b[1;32m   6178\u001b[0m \u001b[39mraise\u001b[39;00m \u001b[39mKeyError\u001b[39;00m(\u001b[39mf\u001b[39m\u001b[39m\"\u001b[39m\u001b[39m{\u001b[39;00mnot_found\u001b[39m}\u001b[39;00m\u001b[39m not in index\u001b[39m\u001b[39m\"\u001b[39m)\n",
      "\u001b[0;31mKeyError\u001b[0m: \"None of [Index(['params.n_epochs', 'params.batch_size', 'params.learning_rate',\\n       'params.weight_decay', 'params.sgd_momentum', 'params.scheduler_gamma',\\n       'params.model_embedding_size', 'params.model_dense_neurons',\\n       'params.model_dropout', 'params.model_layers',\\n       'params.model_num_classes', 'metrics.valid_loss'],\\n      dtype='object')] are in the [columns]\""
     ]
    }
   ],
   "source": [
    "# fetch from mlflow the hyperparameters that have already been tested\n",
    "# and their corresponding best_valid_loss\n",
    "\n",
    "mlflow_client = mlflow.tracking.MlflowClient()\n",
    "experiment = mlflow_client.get_experiment_by_name(\"with dropout\")\n",
    "\n",
    "if experiment is not None:\n",
    "    runs = mlflow.search_runs(experiment.experiment_id)\n",
    "    \n",
    "    keys = list(HYPERPARAMETERS.keys())\n",
    "    keys = ['params.' + key for key in keys]\n",
    "\n",
    "    hyperparameters = runs[keys + ['metrics.valid_loss']]\n",
    "    valid_loss = hyperparameters['metrics.valid_loss']\n",
    "else:\n",
    "    print(\"Experiment not found.\")\n",
    "\n",
    "initial_custom = list(zip(hyperparameters.T.to_dict().values(), valid_loss.values))\n",
    "len(initial_custom)"
   ]
  },
  {
   "cell_type": "code",
   "execution_count": 9,
   "metadata": {
    "application/vnd.databricks.v1+cell": {
     "cellMetadata": {
      "byteLimit": 2048000,
      "rowLimit": 10000
     },
     "inputWidgets": {},
     "nuid": "4c15e0af-4a93-4df4-be21-cf3b6fcc25f5",
     "showTitle": false,
     "title": ""
    }
   },
   "outputs": [
    {
     "name": "stderr",
     "output_type": "stream",
     "text": [
      "  0%|          | 0/300 [00:00<?, ?it/s]\n"
     ]
    },
    {
     "ename": "RuntimeError",
     "evalue": "index 18227 is out of bounds for dimension 0 with size 18227",
     "output_type": "error",
     "traceback": [
      "\u001b[0;31m---------------------------------------------------------------------------\u001b[0m",
      "\u001b[0;31mRuntimeError\u001b[0m                              Traceback (most recent call last)",
      "\u001b[1;32m/Users/nomomon/Desktop/research paper/project/parameter search.ipynb Cell 7\u001b[0m line \u001b[0;36m1\n\u001b[1;32m     <a href='vscode-notebook-cell:/Users/nomomon/Desktop/research%20paper/project/parameter%20search.ipynb#W6sZmlsZQ%3D%3D?line=10'>11</a>\u001b[0m     \u001b[39mreturn\u001b[39;00m train(params, train_dataset, dev_dataset, GCN)\n\u001b[1;32m     <a href='vscode-notebook-cell:/Users/nomomon/Desktop/research%20paper/project/parameter%20search.ipynb#W6sZmlsZQ%3D%3D?line=13'>14</a>\u001b[0m tuner \u001b[39m=\u001b[39m Tuner(HYPERPARAMETERS, \n\u001b[1;32m     <a href='vscode-notebook-cell:/Users/nomomon/Desktop/research%20paper/project/parameter%20search.ipynb#W6sZmlsZQ%3D%3D?line=14'>15</a>\u001b[0m               objective\u001b[39m=\u001b[39mobj_func,\n\u001b[1;32m     <a href='vscode-notebook-cell:/Users/nomomon/Desktop/research%20paper/project/parameter%20search.ipynb#W6sZmlsZQ%3D%3D?line=15'>16</a>\u001b[0m               conf_dict\u001b[39m=\u001b[39mconfig)\n\u001b[0;32m---> <a href='vscode-notebook-cell:/Users/nomomon/Desktop/research%20paper/project/parameter%20search.ipynb#W6sZmlsZQ%3D%3D?line=16'>17</a>\u001b[0m results \u001b[39m=\u001b[39m tuner\u001b[39m.\u001b[39;49mminimize()\n",
      "File \u001b[0;32m/opt/homebrew/lib/python3.11/site-packages/mango/tuner.py:160\u001b[0m, in \u001b[0;36mTuner.minimize\u001b[0;34m(self)\u001b[0m\n\u001b[1;32m    158\u001b[0m \u001b[39mdef\u001b[39;00m \u001b[39mminimize\u001b[39m(\u001b[39mself\u001b[39m):\n\u001b[1;32m    159\u001b[0m     \u001b[39mself\u001b[39m\u001b[39m.\u001b[39mmaximize_objective \u001b[39m=\u001b[39m \u001b[39mFalse\u001b[39;00m\n\u001b[0;32m--> 160\u001b[0m     \u001b[39mreturn\u001b[39;00m \u001b[39mself\u001b[39;49m\u001b[39m.\u001b[39;49mrun()\n",
      "File \u001b[0;32m/opt/homebrew/lib/python3.11/site-packages/mango/tuner.py:147\u001b[0m, in \u001b[0;36mTuner.run\u001b[0;34m(self)\u001b[0m\n\u001b[1;32m    145\u001b[0m \u001b[39mdef\u001b[39;00m \u001b[39mrun\u001b[39m(\u001b[39mself\u001b[39m):\n\u001b[1;32m    146\u001b[0m     \u001b[39mif\u001b[39;00m \u001b[39mself\u001b[39m\u001b[39m.\u001b[39mconfig\u001b[39m.\u001b[39mis_bayesian:\n\u001b[0;32m--> 147\u001b[0m         \u001b[39mself\u001b[39m\u001b[39m.\u001b[39mresults \u001b[39m=\u001b[39m \u001b[39mself\u001b[39;49m\u001b[39m.\u001b[39;49mrunBayesianOptimizer()\n\u001b[1;32m    148\u001b[0m     \u001b[39melif\u001b[39;00m \u001b[39mself\u001b[39m\u001b[39m.\u001b[39mconfig\u001b[39m.\u001b[39mis_random:\n\u001b[1;32m    149\u001b[0m         \u001b[39mself\u001b[39m\u001b[39m.\u001b[39mresults \u001b[39m=\u001b[39m \u001b[39mself\u001b[39m\u001b[39m.\u001b[39mrunRandomOptimizer()\n",
      "File \u001b[0;32m/opt/homebrew/lib/python3.11/site-packages/mango/tuner.py:208\u001b[0m, in \u001b[0;36mTuner.runBayesianOptimizer\u001b[0;34m(self)\u001b[0m\n\u001b[1;32m    205\u001b[0m \u001b[39mdef\u001b[39;00m \u001b[39mrunBayesianOptimizer\u001b[39m(\u001b[39mself\u001b[39m):\n\u001b[1;32m    206\u001b[0m     results \u001b[39m=\u001b[39m \u001b[39mdict\u001b[39m()\n\u001b[0;32m--> 208\u001b[0m     X_list, Y_list, X_tried \u001b[39m=\u001b[39m \u001b[39mself\u001b[39;49m\u001b[39m.\u001b[39;49mrun_initial()\n\u001b[1;32m    210\u001b[0m     \u001b[39m# evaluated hyper parameters are used\u001b[39;00m\n\u001b[1;32m    211\u001b[0m     X_init \u001b[39m=\u001b[39m \u001b[39mself\u001b[39m\u001b[39m.\u001b[39mds\u001b[39m.\u001b[39mconvert_GP_space(X_list)\n",
      "File \u001b[0;32m/opt/homebrew/lib/python3.11/site-packages/mango/tuner.py:185\u001b[0m, in \u001b[0;36mTuner.run_initial\u001b[0;34m(self)\u001b[0m\n\u001b[1;32m    182\u001b[0m \u001b[39melse\u001b[39;00m:\n\u001b[1;32m    183\u001b[0m     \u001b[39m# getting first few random values\u001b[39;00m\n\u001b[1;32m    184\u001b[0m     X_tried \u001b[39m=\u001b[39m \u001b[39mself\u001b[39m\u001b[39m.\u001b[39mds\u001b[39m.\u001b[39mget_random_sample(\u001b[39mself\u001b[39m\u001b[39m.\u001b[39mconfig\u001b[39m.\u001b[39minitial_random)\n\u001b[0;32m--> 185\u001b[0m     X_list, Y_list \u001b[39m=\u001b[39m \u001b[39mself\u001b[39;49m\u001b[39m.\u001b[39;49mrunUserObjective(X_tried)\n\u001b[1;32m    187\u001b[0m     \u001b[39m# in case initial random results are invalid try different samples\u001b[39;00m\n\u001b[1;32m    188\u001b[0m     n_tries \u001b[39m=\u001b[39m \u001b[39m1\u001b[39m\n",
      "File \u001b[0;32m/opt/homebrew/lib/python3.11/site-packages/mango/tuner.py:374\u001b[0m, in \u001b[0;36mTuner.runUserObjective\u001b[0;34m(self, X_next_PS)\u001b[0m\n\u001b[1;32m    371\u001b[0m \u001b[39mdef\u001b[39;00m \u001b[39mrunUserObjective\u001b[39m(\u001b[39mself\u001b[39m, X_next_PS):\n\u001b[1;32m    372\u001b[0m     \u001b[39m# initially assuming entire X_next_PS is evaluated and returned results are only Y values\u001b[39;00m\n\u001b[1;32m    373\u001b[0m     X_list_evaluated \u001b[39m=\u001b[39m X_next_PS\n\u001b[0;32m--> 374\u001b[0m     results \u001b[39m=\u001b[39m \u001b[39mself\u001b[39;49m\u001b[39m.\u001b[39;49mobjective_function(X_next_PS)\n\u001b[1;32m    375\u001b[0m     Y_list_evaluated \u001b[39m=\u001b[39m results\n\u001b[1;32m    377\u001b[0m     \u001b[39m# if result is a tuple, then there is possibility that partial values are evaluated\u001b[39;00m\n",
      "File \u001b[0;32m/opt/homebrew/lib/python3.11/site-packages/mango/scheduler.py:9\u001b[0m, in \u001b[0;36mserial.<locals>.wrapper\u001b[0;34m(params_batch)\u001b[0m\n\u001b[1;32m      7\u001b[0m \u001b[39m@functools\u001b[39m\u001b[39m.\u001b[39mwraps(func)\n\u001b[1;32m      8\u001b[0m \u001b[39mdef\u001b[39;00m \u001b[39mwrapper\u001b[39m(params_batch):\n\u001b[0;32m----> 9\u001b[0m     \u001b[39mreturn\u001b[39;00m [func(\u001b[39m*\u001b[39;49m\u001b[39m*\u001b[39;49mparams) \u001b[39mfor\u001b[39;49;00m params \u001b[39min\u001b[39;49;00m params_batch]\n",
      "File \u001b[0;32m/opt/homebrew/lib/python3.11/site-packages/mango/scheduler.py:9\u001b[0m, in \u001b[0;36m<listcomp>\u001b[0;34m(.0)\u001b[0m\n\u001b[1;32m      7\u001b[0m \u001b[39m@functools\u001b[39m\u001b[39m.\u001b[39mwraps(func)\n\u001b[1;32m      8\u001b[0m \u001b[39mdef\u001b[39;00m \u001b[39mwrapper\u001b[39m(params_batch):\n\u001b[0;32m----> 9\u001b[0m     \u001b[39mreturn\u001b[39;00m [func(\u001b[39m*\u001b[39;49m\u001b[39m*\u001b[39;49mparams) \u001b[39mfor\u001b[39;00m params \u001b[39min\u001b[39;00m params_batch]\n",
      "\u001b[1;32m/Users/nomomon/Desktop/research paper/project/parameter search.ipynb Cell 7\u001b[0m line \u001b[0;36m1\n\u001b[1;32m      <a href='vscode-notebook-cell:/Users/nomomon/Desktop/research%20paper/project/parameter%20search.ipynb#W6sZmlsZQ%3D%3D?line=8'>9</a>\u001b[0m \u001b[39m@scheduler\u001b[39m\u001b[39m.\u001b[39mserial\n\u001b[1;32m     <a href='vscode-notebook-cell:/Users/nomomon/Desktop/research%20paper/project/parameter%20search.ipynb#W6sZmlsZQ%3D%3D?line=9'>10</a>\u001b[0m \u001b[39mdef\u001b[39;00m \u001b[39mobj_func\u001b[39m(\u001b[39m*\u001b[39m\u001b[39m*\u001b[39mparams):\n\u001b[0;32m---> <a href='vscode-notebook-cell:/Users/nomomon/Desktop/research%20paper/project/parameter%20search.ipynb#W6sZmlsZQ%3D%3D?line=10'>11</a>\u001b[0m     \u001b[39mreturn\u001b[39;00m train(params, train_dataset, dev_dataset, GCN)\n",
      "File \u001b[0;32m~/Desktop/research paper/project/src/train.py:126\u001b[0m, in \u001b[0;36mtrain\u001b[0;34m(params, train_dataset, valid_dataset, model_class)\u001b[0m\n\u001b[1;32m    123\u001b[0m \u001b[39mfor\u001b[39;00m epoch \u001b[39min\u001b[39;00m epoch_iter:\n\u001b[1;32m    124\u001b[0m     model\u001b[39m.\u001b[39mtrain()\n\u001b[0;32m--> 126\u001b[0m     train_loss \u001b[39m=\u001b[39m step(epoch, model, train_loader, optimizer, loss_fn, device)\n\u001b[1;32m    127\u001b[0m     mlflow\u001b[39m.\u001b[39mlog_metric(\u001b[39m\"\u001b[39m\u001b[39mtrain_loss\u001b[39m\u001b[39m\"\u001b[39m, train_loss, step\u001b[39m=\u001b[39mepoch)\n\u001b[1;32m    129\u001b[0m     \u001b[39mif\u001b[39;00m epoch \u001b[39m%\u001b[39m \u001b[39m5\u001b[39m \u001b[39m==\u001b[39m \u001b[39m0\u001b[39m:\n",
      "File \u001b[0;32m~/Desktop/research paper/project/src/train.py:69\u001b[0m, in \u001b[0;36mstep\u001b[0;34m(epoch, model, data_loader, optimizer, loss_fn, device, step_type)\u001b[0m\n\u001b[1;32m     66\u001b[0m optimizer\u001b[39m.\u001b[39mzero_grad()\n\u001b[1;32m     67\u001b[0m batch\u001b[39m.\u001b[39mto(device)\n\u001b[0;32m---> 69\u001b[0m logits \u001b[39m=\u001b[39m model(\n\u001b[1;32m     70\u001b[0m     batch\u001b[39m.\u001b[39;49mx\u001b[39m.\u001b[39;49mfloat(),    \u001b[39m# node features\u001b[39;49;00m\n\u001b[1;32m     71\u001b[0m     batch\u001b[39m.\u001b[39;49medge_index,   \u001b[39m# adj list\u001b[39;49;00m\n\u001b[1;32m     72\u001b[0m     batch\u001b[39m.\u001b[39;49mbatch         \u001b[39m# batch info    \u001b[39;49;00m\n\u001b[1;32m     73\u001b[0m )\n\u001b[1;32m     74\u001b[0m loss \u001b[39m=\u001b[39m loss_fn(logits, batch\u001b[39m.\u001b[39my)\n\u001b[1;32m     76\u001b[0m \u001b[39mif\u001b[39;00m step_type \u001b[39m==\u001b[39m \u001b[39m\"\u001b[39m\u001b[39mtrain\u001b[39m\u001b[39m\"\u001b[39m:\n",
      "File \u001b[0;32m/opt/homebrew/lib/python3.11/site-packages/torch/nn/modules/module.py:1518\u001b[0m, in \u001b[0;36mModule._wrapped_call_impl\u001b[0;34m(self, *args, **kwargs)\u001b[0m\n\u001b[1;32m   1516\u001b[0m     \u001b[39mreturn\u001b[39;00m \u001b[39mself\u001b[39m\u001b[39m.\u001b[39m_compiled_call_impl(\u001b[39m*\u001b[39margs, \u001b[39m*\u001b[39m\u001b[39m*\u001b[39mkwargs)  \u001b[39m# type: ignore[misc]\u001b[39;00m\n\u001b[1;32m   1517\u001b[0m \u001b[39melse\u001b[39;00m:\n\u001b[0;32m-> 1518\u001b[0m     \u001b[39mreturn\u001b[39;00m \u001b[39mself\u001b[39;49m\u001b[39m.\u001b[39;49m_call_impl(\u001b[39m*\u001b[39;49margs, \u001b[39m*\u001b[39;49m\u001b[39m*\u001b[39;49mkwargs)\n",
      "File \u001b[0;32m/opt/homebrew/lib/python3.11/site-packages/torch/nn/modules/module.py:1527\u001b[0m, in \u001b[0;36mModule._call_impl\u001b[0;34m(self, *args, **kwargs)\u001b[0m\n\u001b[1;32m   1522\u001b[0m \u001b[39m# If we don't have any hooks, we want to skip the rest of the logic in\u001b[39;00m\n\u001b[1;32m   1523\u001b[0m \u001b[39m# this function, and just call forward.\u001b[39;00m\n\u001b[1;32m   1524\u001b[0m \u001b[39mif\u001b[39;00m \u001b[39mnot\u001b[39;00m (\u001b[39mself\u001b[39m\u001b[39m.\u001b[39m_backward_hooks \u001b[39mor\u001b[39;00m \u001b[39mself\u001b[39m\u001b[39m.\u001b[39m_backward_pre_hooks \u001b[39mor\u001b[39;00m \u001b[39mself\u001b[39m\u001b[39m.\u001b[39m_forward_hooks \u001b[39mor\u001b[39;00m \u001b[39mself\u001b[39m\u001b[39m.\u001b[39m_forward_pre_hooks\n\u001b[1;32m   1525\u001b[0m         \u001b[39mor\u001b[39;00m _global_backward_pre_hooks \u001b[39mor\u001b[39;00m _global_backward_hooks\n\u001b[1;32m   1526\u001b[0m         \u001b[39mor\u001b[39;00m _global_forward_hooks \u001b[39mor\u001b[39;00m _global_forward_pre_hooks):\n\u001b[0;32m-> 1527\u001b[0m     \u001b[39mreturn\u001b[39;00m forward_call(\u001b[39m*\u001b[39;49margs, \u001b[39m*\u001b[39;49m\u001b[39m*\u001b[39;49mkwargs)\n\u001b[1;32m   1529\u001b[0m \u001b[39mtry\u001b[39;00m:\n\u001b[1;32m   1530\u001b[0m     result \u001b[39m=\u001b[39m \u001b[39mNone\u001b[39;00m\n",
      "File \u001b[0;32m~/Desktop/research paper/project/src/model.py:33\u001b[0m, in \u001b[0;36mGCN.forward\u001b[0;34m(self, x, edge_index, batch_index)\u001b[0m\n\u001b[1;32m     30\u001b[0m global_representation \u001b[39m=\u001b[39m []\n\u001b[1;32m     32\u001b[0m \u001b[39mfor\u001b[39;00m i \u001b[39min\u001b[39;00m \u001b[39mrange\u001b[39m(\u001b[39mself\u001b[39m\u001b[39m.\u001b[39mn_layers):\n\u001b[0;32m---> 33\u001b[0m     x \u001b[39m=\u001b[39m \u001b[39mself\u001b[39;49m\u001b[39m.\u001b[39;49mconv_layers[i](x, edge_index)\n\u001b[1;32m     34\u001b[0m     x \u001b[39m=\u001b[39m F\u001b[39m.\u001b[39mrelu(x)\n\u001b[1;32m     35\u001b[0m     x \u001b[39m=\u001b[39m \u001b[39mself\u001b[39m\u001b[39m.\u001b[39mdropout_layers[i](x)\n",
      "File \u001b[0;32m/opt/homebrew/lib/python3.11/site-packages/torch/nn/modules/module.py:1518\u001b[0m, in \u001b[0;36mModule._wrapped_call_impl\u001b[0;34m(self, *args, **kwargs)\u001b[0m\n\u001b[1;32m   1516\u001b[0m     \u001b[39mreturn\u001b[39;00m \u001b[39mself\u001b[39m\u001b[39m.\u001b[39m_compiled_call_impl(\u001b[39m*\u001b[39margs, \u001b[39m*\u001b[39m\u001b[39m*\u001b[39mkwargs)  \u001b[39m# type: ignore[misc]\u001b[39;00m\n\u001b[1;32m   1517\u001b[0m \u001b[39melse\u001b[39;00m:\n\u001b[0;32m-> 1518\u001b[0m     \u001b[39mreturn\u001b[39;00m \u001b[39mself\u001b[39;49m\u001b[39m.\u001b[39;49m_call_impl(\u001b[39m*\u001b[39;49margs, \u001b[39m*\u001b[39;49m\u001b[39m*\u001b[39;49mkwargs)\n",
      "File \u001b[0;32m/opt/homebrew/lib/python3.11/site-packages/torch/nn/modules/module.py:1527\u001b[0m, in \u001b[0;36mModule._call_impl\u001b[0;34m(self, *args, **kwargs)\u001b[0m\n\u001b[1;32m   1522\u001b[0m \u001b[39m# If we don't have any hooks, we want to skip the rest of the logic in\u001b[39;00m\n\u001b[1;32m   1523\u001b[0m \u001b[39m# this function, and just call forward.\u001b[39;00m\n\u001b[1;32m   1524\u001b[0m \u001b[39mif\u001b[39;00m \u001b[39mnot\u001b[39;00m (\u001b[39mself\u001b[39m\u001b[39m.\u001b[39m_backward_hooks \u001b[39mor\u001b[39;00m \u001b[39mself\u001b[39m\u001b[39m.\u001b[39m_backward_pre_hooks \u001b[39mor\u001b[39;00m \u001b[39mself\u001b[39m\u001b[39m.\u001b[39m_forward_hooks \u001b[39mor\u001b[39;00m \u001b[39mself\u001b[39m\u001b[39m.\u001b[39m_forward_pre_hooks\n\u001b[1;32m   1525\u001b[0m         \u001b[39mor\u001b[39;00m _global_backward_pre_hooks \u001b[39mor\u001b[39;00m _global_backward_hooks\n\u001b[1;32m   1526\u001b[0m         \u001b[39mor\u001b[39;00m _global_forward_hooks \u001b[39mor\u001b[39;00m _global_forward_pre_hooks):\n\u001b[0;32m-> 1527\u001b[0m     \u001b[39mreturn\u001b[39;00m forward_call(\u001b[39m*\u001b[39;49margs, \u001b[39m*\u001b[39;49m\u001b[39m*\u001b[39;49mkwargs)\n\u001b[1;32m   1529\u001b[0m \u001b[39mtry\u001b[39;00m:\n\u001b[1;32m   1530\u001b[0m     result \u001b[39m=\u001b[39m \u001b[39mNone\u001b[39;00m\n",
      "File \u001b[0;32m/opt/homebrew/lib/python3.11/site-packages/torch_geometric/nn/conv/gcn_conv.py:222\u001b[0m, in \u001b[0;36mGCNConv.forward\u001b[0;34m(self, x, edge_index, edge_weight)\u001b[0m\n\u001b[1;32m    220\u001b[0m cache \u001b[39m=\u001b[39m \u001b[39mself\u001b[39m\u001b[39m.\u001b[39m_cached_edge_index\n\u001b[1;32m    221\u001b[0m \u001b[39mif\u001b[39;00m cache \u001b[39mis\u001b[39;00m \u001b[39mNone\u001b[39;00m:\n\u001b[0;32m--> 222\u001b[0m     edge_index, edge_weight \u001b[39m=\u001b[39m gcn_norm(  \u001b[39m# yapf: disable\u001b[39;49;00m\n\u001b[1;32m    223\u001b[0m         edge_index, edge_weight, x\u001b[39m.\u001b[39;49msize(\u001b[39mself\u001b[39;49m\u001b[39m.\u001b[39;49mnode_dim),\n\u001b[1;32m    224\u001b[0m         \u001b[39mself\u001b[39;49m\u001b[39m.\u001b[39;49mimproved, \u001b[39mself\u001b[39;49m\u001b[39m.\u001b[39;49madd_self_loops, \u001b[39mself\u001b[39;49m\u001b[39m.\u001b[39;49mflow, x\u001b[39m.\u001b[39;49mdtype)\n\u001b[1;32m    225\u001b[0m     \u001b[39mif\u001b[39;00m \u001b[39mself\u001b[39m\u001b[39m.\u001b[39mcached:\n\u001b[1;32m    226\u001b[0m         \u001b[39mself\u001b[39m\u001b[39m.\u001b[39m_cached_edge_index \u001b[39m=\u001b[39m (edge_index, edge_weight)\n",
      "File \u001b[0;32m/opt/homebrew/lib/python3.11/site-packages/torch_geometric/nn/conv/gcn_conv.py:100\u001b[0m, in \u001b[0;36mgcn_norm\u001b[0;34m(edge_index, edge_weight, num_nodes, improved, add_self_loops, flow, dtype)\u001b[0m\n\u001b[1;32m     98\u001b[0m row, col \u001b[39m=\u001b[39m edge_index[\u001b[39m0\u001b[39m], edge_index[\u001b[39m1\u001b[39m]\n\u001b[1;32m     99\u001b[0m idx \u001b[39m=\u001b[39m col \u001b[39mif\u001b[39;00m flow \u001b[39m==\u001b[39m \u001b[39m'\u001b[39m\u001b[39msource_to_target\u001b[39m\u001b[39m'\u001b[39m \u001b[39melse\u001b[39;00m row\n\u001b[0;32m--> 100\u001b[0m deg \u001b[39m=\u001b[39m scatter(edge_weight, idx, dim\u001b[39m=\u001b[39;49m\u001b[39m0\u001b[39;49m, dim_size\u001b[39m=\u001b[39;49mnum_nodes, reduce\u001b[39m=\u001b[39;49m\u001b[39m'\u001b[39;49m\u001b[39msum\u001b[39;49m\u001b[39m'\u001b[39;49m)\n\u001b[1;32m    101\u001b[0m deg_inv_sqrt \u001b[39m=\u001b[39m deg\u001b[39m.\u001b[39mpow_(\u001b[39m-\u001b[39m\u001b[39m0.5\u001b[39m)\n\u001b[1;32m    102\u001b[0m deg_inv_sqrt\u001b[39m.\u001b[39mmasked_fill_(deg_inv_sqrt \u001b[39m==\u001b[39m \u001b[39mfloat\u001b[39m(\u001b[39m'\u001b[39m\u001b[39minf\u001b[39m\u001b[39m'\u001b[39m), \u001b[39m0\u001b[39m)\n",
      "File \u001b[0;32m/opt/homebrew/lib/python3.11/site-packages/torch_geometric/utils/scatter.py:70\u001b[0m, in \u001b[0;36mscatter\u001b[0;34m(src, index, dim, dim_size, reduce)\u001b[0m\n\u001b[1;32m     68\u001b[0m \u001b[39mif\u001b[39;00m reduce \u001b[39m==\u001b[39m \u001b[39m'\u001b[39m\u001b[39msum\u001b[39m\u001b[39m'\u001b[39m \u001b[39mor\u001b[39;00m reduce \u001b[39m==\u001b[39m \u001b[39m'\u001b[39m\u001b[39madd\u001b[39m\u001b[39m'\u001b[39m:\n\u001b[1;32m     69\u001b[0m     index \u001b[39m=\u001b[39m broadcast(index, src, dim)\n\u001b[0;32m---> 70\u001b[0m     \u001b[39mreturn\u001b[39;00m src\u001b[39m.\u001b[39;49mnew_zeros(size)\u001b[39m.\u001b[39;49mscatter_add_(dim, index, src)\n\u001b[1;32m     72\u001b[0m \u001b[39mif\u001b[39;00m reduce \u001b[39m==\u001b[39m \u001b[39m'\u001b[39m\u001b[39mmean\u001b[39m\u001b[39m'\u001b[39m:\n\u001b[1;32m     73\u001b[0m     count \u001b[39m=\u001b[39m src\u001b[39m.\u001b[39mnew_zeros(dim_size)\n",
      "\u001b[0;31mRuntimeError\u001b[0m: index 18227 is out of bounds for dimension 0 with size 18227"
     ]
    }
   ],
   "source": [
    "from mango import Tuner, scheduler\n",
    "\n",
    "config = dict()\n",
    "config[\"optimizer\"] = \"Bayesian\"\n",
    "config[\"num_iteration\"] = 100\n",
    "config[\"initial_custom\"] = initial_custom\n",
    "\n",
    "\n",
    "@scheduler.serial\n",
    "def obj_func(**params):\n",
    "    return train(params, train_dataset, dev_dataset, GCN)\n",
    "\n",
    "\n",
    "tuner = Tuner(HYPERPARAMETERS, \n",
    "              objective=obj_func,\n",
    "              conf_dict=config)\n",
    "results = tuner.minimize()"
   ]
  },
  {
   "cell_type": "code",
   "execution_count": null,
   "metadata": {},
   "outputs": [],
   "source": [
    "!mlflow server"
   ]
  },
  {
   "cell_type": "code",
   "execution_count": null,
   "metadata": {},
   "outputs": [],
   "source": []
  }
 ],
 "metadata": {
  "application/vnd.databricks.v1+notebook": {
   "dashboards": [],
   "language": "python",
   "notebookMetadata": {
    "pythonIndentUnit": 4
   },
   "notebookName": "parameter search",
   "widgets": {}
  },
  "kernelspec": {
   "display_name": "Python 3",
   "language": "python",
   "name": "python3"
  },
  "language_info": {
   "codemirror_mode": {
    "name": "ipython",
    "version": 3
   },
   "file_extension": ".py",
   "mimetype": "text/x-python",
   "name": "python",
   "nbconvert_exporter": "python",
   "pygments_lexer": "ipython3",
   "version": "3.11.5"
  }
 },
 "nbformat": 4,
 "nbformat_minor": 0
}
