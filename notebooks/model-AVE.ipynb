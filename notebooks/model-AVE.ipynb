{
 "cells": [
  {
   "cell_type": "code",
   "execution_count": null,
   "metadata": {},
   "outputs": [],
   "source": [
    "from sklearn.linear_model import LogisticRegression\n",
    "import numpy as np\n",
    "\n",
    "\n",
    "import os\n",
    "import os.path as osp\n",
    "import pickle as pkl\n",
    "\n",
    "import sys\n",
    "sys.path.append(\"../\")\n",
    "\n",
    "from main import plot_cm\n",
    "from sklearn.metrics import classification_report, confusion_matrix\n",
    "\n",
    "import mlflow\n",
    "\n",
    "mlflow.set_tracking_uri(\"../mlruns/\")\n",
    "mlflow.set_experiment(\"AVE\")"
   ]
  },
  {
   "cell_type": "code",
   "execution_count": null,
   "metadata": {},
   "outputs": [],
   "source": [
    "mlflow.start_run()"
   ]
  },
  {
   "cell_type": "code",
   "execution_count": null,
   "metadata": {},
   "outputs": [],
   "source": [
    "def load_set(set_type = \"train\", encoder_type = \"bert\"):\n",
    "    raw_dir = f\"../data/gold/{set_type}/raw\"\n",
    "\n",
    "    dirs = os.listdir(raw_dir)\n",
    "    dirs = [osp.join(raw_dir, d) for d in dirs if d.isnumeric()]\n",
    "\n",
    "    features = []\n",
    "    labels = []\n",
    "\n",
    "    for _, dir in enumerate(dirs):\n",
    "        # Load data\n",
    "        node_features_path = osp.join(dir, f'features_{encoder_type}.npy')\n",
    "        node_features = np.load(node_features_path)\n",
    "        feature = node_features.mean(axis=0)\n",
    "\n",
    "        label_path = osp.join(dir, 'label.pkl')\n",
    "        label = pkl.load(open(label_path, 'rb'))\n",
    "\n",
    "        features.append(feature)\n",
    "        labels.append(label)\n",
    "    \n",
    "    features = np.array(features)\n",
    "    labels = np.array(labels)\n",
    "\n",
    "    return features, labels\n",
    "\n",
    "encoder_type = \"w2v\" # \"bert\" or \"w2v\"\n",
    "\n",
    "features_train, target_train = load_set(\"train\", encoder_type)\n",
    "features_valid, target_valid = load_set(\"valid\", encoder_type)\n",
    "features_test, target_test   = load_set(\"test\",  encoder_type)\n",
    "\n",
    "mlflow.log_param(\"encoder_type\", encoder_type)"
   ]
  },
  {
   "cell_type": "code",
   "execution_count": null,
   "metadata": {},
   "outputs": [],
   "source": [
    "model = LogisticRegression(max_iter=3000, penalty=\"l2\", C=1.0)\n",
    "model.fit(features_train, target_train)\n",
    "\n",
    "mlflow.log_params(model.get_params())"
   ]
  },
  {
   "cell_type": "code",
   "execution_count": null,
   "metadata": {},
   "outputs": [],
   "source": [
    "from pandas import json_normalize\n",
    "\n",
    "def eval_set(features, target, set_type):\n",
    "    pred = model.predict(features)\n",
    "    cm = confusion_matrix(target, pred, normalize='true')\n",
    "    report = classification_report(target, pred, output_dict=True)\n",
    "    report = json_normalize(report)\n",
    "    report.columns = [f\"{set_type}.{c}\" for c in report.columns]\n",
    "    report = report.iloc[0].to_dict()\n",
    "    return cm, report\n",
    "\n",
    "cm_train, report_train = eval_set(features_train, target_train, \"train\")\n",
    "cm_valid, report_valid = eval_set(features_valid, target_valid, \"valid\")\n",
    "cm_test,  report_test  = eval_set(features_test,  target_test,  \"test\")\n",
    "\n",
    "mlflow.log_metrics(report_train)\n",
    "mlflow.log_metrics(report_valid)\n",
    "mlflow.log_metrics(report_test)\n",
    "\n",
    "plot_path = plot_cm([\n",
    "    [cm_train, \"Train\"],\n",
    "    [cm_valid, \"Valid\"],\n",
    "    [cm_test,  \"Test\" ]\n",
    "], epoch=0, root=\"..\")\n",
    "\n",
    "mlflow.log_artifact(plot_path)"
   ]
  },
  {
   "cell_type": "code",
   "execution_count": null,
   "metadata": {},
   "outputs": [],
   "source": [
    "mlflow.end_run()"
   ]
  },
  {
   "cell_type": "code",
   "execution_count": null,
   "metadata": {},
   "outputs": [],
   "source": []
  }
 ],
 "metadata": {
  "kernelspec": {
   "display_name": "project-mpzZBFSK",
   "language": "python",
   "name": "python3"
  },
  "language_info": {
   "codemirror_mode": {
    "name": "ipython",
    "version": 3
   },
   "file_extension": ".py",
   "mimetype": "text/x-python",
   "name": "python",
   "nbconvert_exporter": "python",
   "pygments_lexer": "ipython3",
   "version": "3.11.7"
  }
 },
 "nbformat": 4,
 "nbformat_minor": 2
}
