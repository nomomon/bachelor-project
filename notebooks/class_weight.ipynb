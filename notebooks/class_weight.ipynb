{
 "cells": [
  {
   "cell_type": "markdown",
   "metadata": {},
   "source": [
    "RUN FROM ROOT OF REPOSITORY"
   ]
  },
  {
   "cell_type": "code",
   "execution_count": 1,
   "metadata": {},
   "outputs": [],
   "source": [
    "import numpy as np\n",
    "import torch\n",
    "\n",
    "from torch_geometric.loader import DataLoader, ImbalancedSampler\n",
    "\n",
    "from src.features.dataset import DepressionDataset"
   ]
  },
  {
   "cell_type": "code",
   "execution_count": 2,
   "metadata": {},
   "outputs": [],
   "source": [
    "batch_size = 64\n",
    "\n",
    "train_set = DepressionDataset('train', 'bert', 'dependency')\n",
    "sampler = ImbalancedSampler(train_set)\n",
    "train_loader = DataLoader(train_set, batch_size=batch_size, sampler=sampler)"
   ]
  },
  {
   "cell_type": "code",
   "execution_count": 3,
   "metadata": {},
   "outputs": [
    {
     "name": "stderr",
     "output_type": "stream",
     "text": [
      "100%|██████████| 139/139 [02:10<00:00,  1.07it/s]\n"
     ]
    },
    {
     "data": {
      "text/plain": [
       "(array([21.28776978, 21.35251799, 21.32374101]),\n",
       " array([3.89104229, 3.58827689, 3.86501711]))"
      ]
     },
     "execution_count": 3,
     "metadata": {},
     "output_type": "execute_result"
    }
   ],
   "source": [
    "from tqdm import tqdm\n",
    "\n",
    "a = []\n",
    "\n",
    "for batch in tqdm(train_loader):\n",
    "    b = batch.y.cpu().numpy()\n",
    "    b = np.bincount(b)\n",
    "    b = b[None, :]\n",
    "    a.append(b)\n",
    "\n",
    "a = np.concatenate(a, axis=0)\n",
    "\n",
    "a.mean(axis=0), a.std(axis=0)"
   ]
  },
  {
   "cell_type": "markdown",
   "metadata": {},
   "source": [
    "No sampler:\n",
    "\n",
    "```\n",
    "(array([14.17985612, 43.30215827,  6.48201439]),\n",
    " array([3.36561495, 3.6750269 , 2.34858757]))\n",
    "```\n",
    "\n",
    "With sampler: (my implementation)\n",
    "\n",
    "```\n",
    "(array([14.3381295 , 42.5971223 ,  7.02877698]),\n",
    " array([3.31457205, 3.75072065, 2.4493207 ]))\n",
    "```\n",
    "\n",
    "With sampler: (torch geo implementation)\n",
    "\n",
    "```\n",
    "(array([21.28776978, 21.35251799, 21.32374101]),  # works\n",
    " array([3.89104229, 3.58827689, 3.86501711]))\n",
    "```"
   ]
  },
  {
   "cell_type": "code",
   "execution_count": null,
   "metadata": {},
   "outputs": [],
   "source": []
  },
  {
   "cell_type": "code",
   "execution_count": null,
   "metadata": {},
   "outputs": [],
   "source": []
  }
 ],
 "metadata": {
  "kernelspec": {
   "display_name": "Python 3",
   "language": "python",
   "name": "python3"
  },
  "language_info": {
   "codemirror_mode": {
    "name": "ipython",
    "version": 3
   },
   "file_extension": ".py",
   "mimetype": "text/x-python",
   "name": "python",
   "nbconvert_exporter": "python",
   "pygments_lexer": "ipython3",
   "version": "3.11.5"
  }
 },
 "nbformat": 4,
 "nbformat_minor": 2
}
