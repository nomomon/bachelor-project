{
 "cells": [
  {
   "cell_type": "code",
   "execution_count": null,
   "metadata": {},
   "outputs": [],
   "source": [
    "from sklearn.feature_extraction.text import CountVectorizer\n",
    "from sklearn.linear_model import LogisticRegression\n",
    "import pandas as pd\n",
    "\n",
    "import sys\n",
    "sys.path.append(\"../\")\n",
    "\n",
    "from main import plot_cm\n",
    "from sklearn.metrics import classification_report, confusion_matrix\n",
    "\n",
    "import mlflow\n",
    "\n",
    "mlflow.set_tracking_uri(\"../mlruns/\")\n",
    "mlflow.set_experiment(\"BOW\")"
   ]
  },
  {
   "cell_type": "code",
   "execution_count": null,
   "metadata": {},
   "outputs": [],
   "source": [
    "mlflow.start_run()"
   ]
  },
  {
   "cell_type": "code",
   "execution_count": null,
   "metadata": {},
   "outputs": [],
   "source": [
    "train = pd.read_csv(\"../data/silver/train.tsv\", sep=\"\\t\")\n",
    "valid = pd.read_csv(\"../data/silver/valid.tsv\", sep=\"\\t\")\n",
    "test = pd.read_csv(\"../data/silver/test.tsv\", sep=\"\\t\")\n",
    "\n",
    "train.head()"
   ]
  },
  {
   "cell_type": "code",
   "execution_count": null,
   "metadata": {},
   "outputs": [],
   "source": [
    "vectorizer = CountVectorizer(stop_words=\"english\", ngram_range=(1, 3), min_df=2)\n",
    "mlflow.log_params(vectorizer.get_params())\n",
    "\n",
    "features_train = vectorizer.fit_transform(train.text)\n",
    "features_valid = vectorizer.transform(valid.text)\n",
    "features_test  = vectorizer.transform(test.text)\n",
    "\n",
    "target_train = train.label\n",
    "target_valid = valid.label\n",
    "target_test  = test.label"
   ]
  },
  {
   "cell_type": "code",
   "execution_count": null,
   "metadata": {},
   "outputs": [],
   "source": [
    "model = LogisticRegression(n_jobs=-1, max_iter=3000, penalty=\"l2\", C=0.3)\n",
    "model.fit(features_train, target_train)\n",
    "\n",
    "mlflow.log_params(model.get_params())"
   ]
  },
  {
   "cell_type": "code",
   "execution_count": null,
   "metadata": {},
   "outputs": [],
   "source": [
    "from pandas import json_normalize\n",
    "\n",
    "def eval_set(features, target, set_type):\n",
    "    pred = model.predict(features)\n",
    "    cm = confusion_matrix(target, pred, normalize='true')\n",
    "    report = classification_report(target, pred, output_dict=True)\n",
    "    report = json_normalize(report)\n",
    "    report.columns = [f\"{set_type}.{c}\" for c in report.columns]\n",
    "    report = report.iloc[0].to_dict()\n",
    "    return cm, report\n",
    "\n",
    "cm_train, report_train = eval_set(features_train, target_train, \"train\")\n",
    "cm_valid, report_valid = eval_set(features_valid, target_valid, \"valid\")\n",
    "cm_test,  report_test  = eval_set(features_test,  target_test,  \"test\")\n",
    "\n",
    "mlflow.log_metrics(report_train)\n",
    "mlflow.log_metrics(report_valid)\n",
    "mlflow.log_metrics(report_test)\n",
    "\n",
    "plot_path = plot_cm([\n",
    "    [cm_train, \"Train\"],\n",
    "    [cm_valid, \"Valid\"],\n",
    "    [cm_test,  \"Test\" ]\n",
    "], epoch=0, root=\"../reports/figures\")\n",
    "\n",
    "mlflow.log_artifact(plot_path)"
   ]
  },
  {
   "cell_type": "code",
   "execution_count": null,
   "metadata": {},
   "outputs": [],
   "source": [
    "mlflow.end_run()"
   ]
  },
  {
   "cell_type": "code",
   "execution_count": null,
   "metadata": {},
   "outputs": [],
   "source": []
  }
 ],
 "metadata": {
  "kernelspec": {
   "display_name": "project-mpzZBFSK",
   "language": "python",
   "name": "python3"
  },
  "language_info": {
   "codemirror_mode": {
    "name": "ipython",
    "version": 3
   },
   "file_extension": ".py",
   "mimetype": "text/x-python",
   "name": "python",
   "nbconvert_exporter": "python",
   "pygments_lexer": "ipython3",
   "version": "3.11.7"
  }
 },
 "nbformat": 4,
 "nbformat_minor": 2
}
