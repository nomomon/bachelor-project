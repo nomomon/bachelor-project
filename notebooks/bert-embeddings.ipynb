{
 "cells": [
  {
   "cell_type": "code",
   "execution_count": 38,
   "metadata": {},
   "outputs": [],
   "source": [
    "import sys\n",
    "sys.path.append('../')\n",
    "\n",
    "from src.features.graphs import pipe_get_graph_dependency\n",
    "from transformers import BertTokenizer, BertModel\n",
    "import torch"
   ]
  },
  {
   "cell_type": "code",
   "execution_count": 39,
   "metadata": {},
   "outputs": [],
   "source": [
    "bert_tokenizer = BertTokenizer.from_pretrained('bert-base-uncased')\n",
    "bert_model = BertModel.from_pretrained('bert-base-uncased')"
   ]
  },
  {
   "cell_type": "code",
   "execution_count": 41,
   "metadata": {},
   "outputs": [
    {
     "name": "stdout",
     "output_type": "stream",
     "text": [
      "['my', 'name', 'is', 'mansur']\n"
     ]
    }
   ],
   "source": [
    "text = \"my name is mansur\"\n",
    "nodes = pipe_get_graph_dependency([text])[0][0]\n",
    "print(nodes)"
   ]
  },
  {
   "cell_type": "code",
   "execution_count": 42,
   "metadata": {},
   "outputs": [
    {
     "data": {
      "text/plain": [
       "[2026, 2171, 2003, 100]"
      ]
     },
     "execution_count": 42,
     "metadata": {},
     "output_type": "execute_result"
    }
   ],
   "source": [
    "node_ids = bert_tokenizer.convert_tokens_to_ids(nodes)\n",
    "\n",
    "node_ids"
   ]
  },
  {
   "cell_type": "code",
   "execution_count": 43,
   "metadata": {},
   "outputs": [
    {
     "name": "stdout",
     "output_type": "stream",
     "text": [
      "torch.Size([1, 4, 768])\n",
      "tensor([[[-0.5262,  0.0037, -0.2047,  ..., -0.0646,  0.4079,  0.4193],\n",
      "         [-0.2162,  0.3499,  0.1357,  ..., -0.0970,  0.4418,  0.0676],\n",
      "         [-0.4372,  0.3469,  0.1108,  ..., -0.0828,  0.4179,  0.2761],\n",
      "         [-0.6043,  0.4287,  0.1793,  ..., -0.1501,  0.4506,  0.1635]]])\n"
     ]
    }
   ],
   "source": [
    "input_tensor = torch.tensor([node_ids])\n",
    "\n",
    "# make embedding\n",
    "\n",
    "with torch.no_grad():\n",
    "    last_hidden_states = bert_model(input_tensor)[0]  # Models outputs are now tuples\n",
    "    print(last_hidden_states.shape)\n",
    "    print(last_hidden_states)"
   ]
  },
  {
   "cell_type": "code",
   "execution_count": 19,
   "metadata": {},
   "outputs": [
    {
     "name": "stdout",
     "output_type": "stream",
     "text": [
      "tensor([[-0.0542,  0.1198,  0.0206,  ..., -0.2848,  0.4606,  0.4578],\n",
      "        [-0.3199,  0.1903, -0.2605,  ..., -0.6791,  0.7809,  0.2531],\n",
      "        [-0.2987,  0.2777,  0.0491,  ..., -0.4080,  0.6818,  0.8072],\n",
      "        ...,\n",
      "        [-0.6011,  0.1999,  0.1491,  ..., -0.1202,  0.2963,  0.4673],\n",
      "        [-0.5147,  0.0944, -0.2155,  ...,  0.0167,  0.5935,  0.6680],\n",
      "        [-0.7929,  0.4672, -0.4117,  ..., -0.3198,  0.4967,  0.2549]])\n"
     ]
    }
   ],
   "source": [
    "# average tokens which have ## in them\n",
    "\n",
    "embeddings = []\n",
    "i = 0\n",
    "\n",
    "while i < len(nodes):\n",
    "    embedding = [last_hidden_states[0][i]]\n",
    "    \n",
    "    i += 1\n",
    "    while i < len(nodes) and \"##\" in nodes[i]:\n",
    "        embedding.append(last_hidden_states[0][i])\n",
    "        i += 1\n",
    "\n",
    "    embeddings.append(torch.mean(torch.stack(embedding), dim=0))\n",
    "\n",
    "embeddings = torch.stack(embeddings)\n",
    "\n",
    "print(embeddings)"
   ]
  },
  {
   "cell_type": "code",
   "execution_count": null,
   "metadata": {},
   "outputs": [],
   "source": []
  }
 ],
 "metadata": {
  "kernelspec": {
   "display_name": "Python 3",
   "language": "python",
   "name": "python3"
  },
  "language_info": {
   "codemirror_mode": {
    "name": "ipython",
    "version": 3
   },
   "file_extension": ".py",
   "mimetype": "text/x-python",
   "name": "python",
   "nbconvert_exporter": "python",
   "pygments_lexer": "ipython3",
   "version": "3.11.5"
  }
 },
 "nbformat": 4,
 "nbformat_minor": 2
}
