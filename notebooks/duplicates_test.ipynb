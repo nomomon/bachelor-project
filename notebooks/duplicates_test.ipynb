{
 "cells": [
  {
   "cell_type": "code",
   "execution_count": 19,
   "metadata": {},
   "outputs": [],
   "source": [
    "import pandas as pd\n",
    "\n",
    "from sklearn.model_selection import train_test_split"
   ]
  },
  {
   "cell_type": "code",
   "execution_count": 15,
   "metadata": {},
   "outputs": [],
   "source": [
    "train = pd.read_csv('../data/raw/train.tsv', sep='\\t', index_col=0)\n",
    "valid = pd.read_csv('../data/raw/valid.tsv', sep='\\t', index_col=0)"
   ]
  },
  {
   "cell_type": "code",
   "execution_count": 16,
   "metadata": {},
   "outputs": [
    {
     "name": "stdout",
     "output_type": "stream",
     "text": [
      "(8891, 2)\n",
      "(2782, 2)\n"
     ]
    }
   ],
   "source": [
    "print(train.shape)\n",
    "print(train.drop_duplicates().shape)"
   ]
  },
  {
   "cell_type": "code",
   "execution_count": 17,
   "metadata": {},
   "outputs": [
    {
     "name": "stdout",
     "output_type": "stream",
     "text": [
      "(4496, 2)\n",
      "(4482, 2)\n"
     ]
    }
   ],
   "source": [
    "print(valid.shape)\n",
    "print(valid.drop_duplicates().shape)"
   ]
  },
  {
   "cell_type": "code",
   "execution_count": 18,
   "metadata": {},
   "outputs": [
    {
     "name": "stdout",
     "output_type": "stream",
     "text": [
      "(7264, 2)\n",
      "(7148, 2)\n"
     ]
    }
   ],
   "source": [
    "train_valid = pd.concat([train.drop_duplicates(), valid.drop_duplicates()])\n",
    "\n",
    "print(train_valid.shape)\n",
    "print(train_valid.drop_duplicates().shape)"
   ]
  },
  {
   "cell_type": "markdown",
   "metadata": {},
   "source": [
    "There is quite a lot of duplicates in the dataset"
   ]
  },
  {
   "cell_type": "code",
   "execution_count": 40,
   "metadata": {},
   "outputs": [],
   "source": [
    "new_train, new_valid = train_test_split(\n",
    "    train_valid, test_size = 1000 / train_valid.shape[0],\n",
    "    random_state = 42, \n",
    "    stratify = train_valid['label']\n",
    ")"
   ]
  },
  {
   "cell_type": "code",
   "execution_count": 41,
   "metadata": {},
   "outputs": [
    {
     "name": "stdout",
     "output_type": "stream",
     "text": [
      "(6264, 2)\n"
     ]
    },
    {
     "data": {
      "text/plain": [
       "label\n",
       "moderate          3195\n",
       "not depression    2393\n",
       "severe             676\n",
       "Name: count, dtype: int64"
      ]
     },
     "execution_count": 41,
     "metadata": {},
     "output_type": "execute_result"
    }
   ],
   "source": [
    "print(new_train.shape)\n",
    "\n",
    "new_train[\"label\"].value_counts()"
   ]
  },
  {
   "cell_type": "code",
   "execution_count": 42,
   "metadata": {},
   "outputs": [
    {
     "name": "stdout",
     "output_type": "stream",
     "text": [
      "(1000, 2)\n"
     ]
    },
    {
     "data": {
      "text/plain": [
       "label\n",
       "moderate          510\n",
       "not depression    382\n",
       "severe            108\n",
       "Name: count, dtype: int64"
      ]
     },
     "execution_count": 42,
     "metadata": {},
     "output_type": "execute_result"
    }
   ],
   "source": [
    "print(new_valid.shape)\n",
    "\n",
    "new_valid[\"label\"].value_counts()"
   ]
  },
  {
   "cell_type": "code",
   "execution_count": 43,
   "metadata": {},
   "outputs": [],
   "source": [
    "# save into bronze  \n",
    "\n",
    "new_train.to_csv('../data/bronze/train.tsv', sep='\\t')\n",
    "new_valid.to_csv('../data/bronze/valid.tsv', sep='\\t')"
   ]
  },
  {
   "cell_type": "code",
   "execution_count": 44,
   "metadata": {},
   "outputs": [
    {
     "data": {
      "text/plain": [
       "'../data/bronze/development.tsv'"
      ]
     },
     "execution_count": 44,
     "metadata": {},
     "output_type": "execute_result"
    }
   ],
   "source": [
    "# copy the test.tsv into bronze\n",
    "# and development.tsv\n",
    "import shutil\n",
    "\n",
    "shutil.copyfile('../data/raw/test.tsv', '../data/bronze/test.tsv')\n",
    "shutil.copyfile('../data/raw/development.tsv', '../data/bronze/development.tsv')"
   ]
  },
  {
   "cell_type": "code",
   "execution_count": null,
   "metadata": {},
   "outputs": [],
   "source": []
  }
 ],
 "metadata": {
  "kernelspec": {
   "display_name": "project-mpzZBFSK",
   "language": "python",
   "name": "python3"
  },
  "language_info": {
   "codemirror_mode": {
    "name": "ipython",
    "version": 3
   },
   "file_extension": ".py",
   "mimetype": "text/x-python",
   "name": "python",
   "nbconvert_exporter": "python",
   "pygments_lexer": "ipython3",
   "version": "3.11.5"
  }
 },
 "nbformat": 4,
 "nbformat_minor": 2
}
